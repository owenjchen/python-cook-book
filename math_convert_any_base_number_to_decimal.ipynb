{
 "cells": [
  {
   "cell_type": "markdown",
   "id": "f1255522-b5e5-47a2-9257-c62443b0a88c",
   "metadata": {},
   "source": [
    "# Convert any base number to a decimal\n",
    "## use built-in function int()"
   ]
  },
  {
   "cell_type": "code",
   "execution_count": 18,
   "id": "a0dc8bb1-b208-419a-86ca-cd162d4e8dc6",
   "metadata": {},
   "outputs": [
    {
     "name": "stdout",
     "output_type": "stream",
     "text": [
      "Convert 2B in base-16 to base-10 (decimal): 43\n"
     ]
    }
   ],
   "source": [
    "# Python function int() to convert any base number to its corresponding decimal number\n",
    "\n",
    "number, base=\"2B\", 16\n",
    "base=int(base)\n",
    "print(f\"Convert {number} in base-{base} to base-10 (decimal):\", int(number, base))"
   ]
  },
  {
   "cell_type": "code",
   "execution_count": 19,
   "id": "8809cb3c-1679-44e6-81a4-a223bf18aa7a",
   "metadata": {},
   "outputs": [
    {
     "name": "stdin",
     "output_type": "stream",
     "text": [
      "Please enter number and base: 765 8\n"
     ]
    },
    {
     "name": "stdout",
     "output_type": "stream",
     "text": [
      "you entered number=765, base=8\n",
      "Convert 765 in base-8 to base-10 (decimal): 501\n"
     ]
    }
   ],
   "source": [
    "# Enter two numbers: number and base, separate by space or comma or any white spaces\n",
    "import re\n",
    "# Python program to convert any base\n",
    "# number to its corresponding decimal\n",
    "# number\n",
    "\n",
    "s =input(\"Please enter number and base:\")\n",
    "number, base = re.split('\\W+', s)\n",
    "print(f\"you entered number={number}, base={base}\")\n",
    "base=int(base)\n",
    "print(f\"Convert {number} in base-{base} to base-10 (decimal):\", int(number, base))"
   ]
  },
  {
   "cell_type": "code",
   "execution_count": null,
   "id": "d4d617e3-5eca-4b65-9ba7-8b6817702690",
   "metadata": {},
   "outputs": [],
   "source": []
  }
 ],
 "metadata": {
  "kernelspec": {
   "display_name": "Python 3 (ipykernel)",
   "language": "python",
   "name": "python3"
  },
  "language_info": {
   "codemirror_mode": {
    "name": "ipython",
    "version": 3
   },
   "file_extension": ".py",
   "mimetype": "text/x-python",
   "name": "python",
   "nbconvert_exporter": "python",
   "pygments_lexer": "ipython3",
   "version": "3.9.7"
  }
 },
 "nbformat": 4,
 "nbformat_minor": 5
}
