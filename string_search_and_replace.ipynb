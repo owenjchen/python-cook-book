{
 "cells": [
  {
   "cell_type": "markdown",
   "id": "84138f99-147e-46d4-9cb9-9f182439c346",
   "metadata": {},
   "source": [
    "# Search and Replace Text"
   ]
  },
  {
   "cell_type": "markdown",
   "id": "8e521cce-816c-476b-b355-b4db16e276bd",
   "metadata": {},
   "source": [
    "## 1.  str.replace()\n",
    "search and replace a simple text pattern in a string using the str.replace() method."
   ]
  },
  {
   "cell_type": "code",
   "execution_count": 1,
   "id": "a0bfbb02-e3d7-4eab-8154-3c2f934b6459",
   "metadata": {},
   "outputs": [
    {
     "name": "stdout",
     "output_type": "stream",
     "text": [
      "Peter Parker picked a peck of pickled peppers\n"
     ]
    }
   ],
   "source": [
    "s = \"Peter Piper picked a peck of pickled peppers\"\n",
    "s = s.replace(\"Piper\", \"Parker\")\n",
    "print(s)"
   ]
  },
  {
   "cell_type": "markdown",
   "id": "7af0ed1a-726b-49a2-a99b-0303e09c0698",
   "metadata": {},
   "source": [
    "## 2. Regular Expression sub()\n",
    "For more complicated patterns, you can use the sub() method from the re library. Regular Expressions in Python make the task a lot easier for complicated patterns.\n"
   ]
  },
  {
   "cell_type": "code",
   "execution_count": 12,
   "id": "b40bca92-8c84-4da2-8efd-d4e0fb462e3b",
   "metadata": {},
   "outputs": [
    {
     "name": "stdout",
     "output_type": "stream",
     "text": [
      "this is a     variable name\n",
      "this_is_a_____variable_name\n",
      "this_is_a_variable_name\n"
     ]
    }
   ],
   "source": [
    "import re\n",
    "# Replace all white space [ \\t\\n\\r\\f\\v] with an underscore _\n",
    "s = \"this is a \\\n",
    "    variable name\"\n",
    "print(s)\n",
    "result = re.sub('\\s', '_', s)\n",
    "print(result)\n",
    "# Replace consecutive white spaces with a single underscore\n",
    "result = re.sub('\\s+', '_', s)\n",
    "print(result)"
   ]
  },
  {
   "cell_type": "code",
   "execution_count": null,
   "id": "7551da7d-ca81-4b14-9ce6-6c92448e93a4",
   "metadata": {},
   "outputs": [],
   "source": []
  }
 ],
 "metadata": {
  "kernelspec": {
   "display_name": "Python 3 (ipykernel)",
   "language": "python",
   "name": "python3"
  },
  "language_info": {
   "codemirror_mode": {
    "name": "ipython",
    "version": 3
   },
   "file_extension": ".py",
   "mimetype": "text/x-python",
   "name": "python",
   "nbconvert_exporter": "python",
   "pygments_lexer": "ipython3",
   "version": "3.9.7"
  }
 },
 "nbformat": 4,
 "nbformat_minor": 5
}
