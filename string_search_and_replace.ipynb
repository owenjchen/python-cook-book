{
 "cells": [
  {
   "cell_type": "markdown",
   "id": "84138f99-147e-46d4-9cb9-9f182439c346",
   "metadata": {},
   "source": [
    "# Search and Replace Text"
   ]
  },
  {
   "cell_type": "markdown",
   "id": "8e521cce-816c-476b-b355-b4db16e276bd",
   "metadata": {},
   "source": [
    "## 1.  str.replace()\n",
    "search and replace a simple text pattern in a string using the str.replace() method."
   ]
  },
  {
   "cell_type": "code",
   "execution_count": 1,
   "id": "a0bfbb02-e3d7-4eab-8154-3c2f934b6459",
   "metadata": {},
   "outputs": [
    {
     "name": "stdout",
     "output_type": "stream",
     "text": [
      "Peter Parker picked a peck of pickled peppers\n"
     ]
    }
   ],
   "source": [
    "s = \"Peter Piper picked a peck of pickled peppers\"\n",
    "s = s.replace(\"Piper\", \"Parker\")\n",
    "print(s)"
   ]
  },
  {
   "cell_type": "markdown",
   "id": "7af0ed1a-726b-49a2-a99b-0303e09c0698",
   "metadata": {},
   "source": [
    "## 2. Regular Expression sub()\n",
    "For more complicated patterns, you can use the sub() method from the re library. Regular Expressions in Python make the task a lot easier for complicated patterns.\n"
   ]
  },
  {
   "cell_type": "code",
   "execution_count": 6,
   "id": "b40bca92-8c84-4da2-8efd-d4e0fb462e3b",
   "metadata": {},
   "outputs": [
    {
     "name": "stdout",
     "output_type": "stream",
     "text": [
      "this is a     variable name\n",
      "this_is_a_____variable_name\n",
      " this has many white spaces including tab and return \n",
      "this_is_a_variable_name\n"
     ]
    }
   ],
   "source": [
    "import re\n",
    "# Replace all white space [ \\t\\n\\r\\f\\v] with an underscore _\n",
    "s = \"this is a \\\n",
    "    variable name\"\n",
    "print(s)\n",
    "result = re.sub('\\s', '_', s)\n",
    "print(result)\n",
    "\n",
    "# Replace multiple white spaces with a single white space\n",
    "result = re.sub('\\s+', ' ', \" this has  many \\t white spaces \\n including tab and return \\n \")\n",
    "print(result)\n",
    "\n",
    "# Replace consecutive white spaces with a single underscore\n",
    "result = re.sub('\\s+', '_', s)\n",
    "print(result)"
   ]
  },
  {
   "cell_type": "markdown",
   "id": "513528e3-7d42-4940-97c2-36f41b90bb89",
   "metadata": {},
   "source": [
    "## 3. Example - convert a sentence to a list of words without punctuations"
   ]
  },
  {
   "cell_type": "code",
   "execution_count": 1,
   "id": "12d268d8-f24c-44a1-973c-e12b83c486f0",
   "metadata": {},
   "outputs": [],
   "source": [
    "import re\n",
    "def split_words(sentence):\n",
    "    if not sentence:\n",
    "        return None\n",
    "    #Replace any alphnumeric chacter with a space:  re.sub(\"\\W+\", \" \", string)\n",
    "    #Split by any white space  str.split()\n",
    "    return re.sub(\"\\W+\", \" \", sentence.strip()).split()"
   ]
  },
  {
   "cell_type": "code",
   "execution_count": 4,
   "id": "ffbb4b74-3c82-43b2-bb7c-bf04211d6b10",
   "metadata": {},
   "outputs": [
    {
     "name": "stdout",
     "output_type": "stream",
     "text": [
      "['Have', 'free', 'hours', 'and', 'love', 'children', 'Drive', 'kids', 'to', 'school', 'soccer', 'practice', 'and', 'other', 'activities']\n"
     ]
    }
   ],
   "source": [
    "sentence = \" Have  free hours and  love children? Drive kids to school,  soccer practice and other activities. \"\n",
    "words = split_words(sentence)\n",
    "print(words)"
   ]
  },
  {
   "cell_type": "markdown",
   "id": "3683e9a4-e1b6-4398-9878-dc071bdc43ab",
   "metadata": {},
   "source": [
    "## 4. Example -Find a pattern at the beginning of each sentence and end with\n",
    "* start with  \"^pattern\"\n",
    "* end with \"pattern$\""
   ]
  },
  {
   "cell_type": "code",
   "execution_count": 9,
   "id": "2f3a9290-b0b9-4f6b-b235-144dc6e872ad",
   "metadata": {},
   "outputs": [
    {
     "name": "stdout",
     "output_type": "stream",
     "text": [
      "True\n"
     ]
    }
   ],
   "source": [
    "# Check a string whether it starts with or ends with\n",
    "s = \"Peter Piper picked a peck of pickled peppers\"\n",
    "print(s.startswith(\"P\"))"
   ]
  },
  {
   "cell_type": "code",
   "execution_count": 10,
   "id": "fc13e83a-8ad9-44aa-ab72-fb7eab327afd",
   "metadata": {},
   "outputs": [
    {
     "name": "stdout",
     "output_type": "stream",
     "text": [
      "True\n"
     ]
    }
   ],
   "source": [
    "# Check a string whether it starts with or ends with\n",
    "s = \"Peter Piper picked a peck of pickled peppers\"\n",
    "print(s.endswith(\"s\"))"
   ]
  },
  {
   "cell_type": "code",
   "execution_count": 30,
   "id": "d043ab0b-4c2c-4e1c-896f-1727755c2e99",
   "metadata": {},
   "outputs": [
    {
     "name": "stdout",
     "output_type": "stream",
     "text": [
      "Peter Piper picked a peck of pickled peppers.\n",
      "This is second line.\n",
      "But this is the 3rd line.\n",
      "Found a sentnece ends with a s.: Peter Piper picked a peck of pickled peppers.\n",
      "Found a sentnece starts with a T: This is second line.\n"
     ]
    }
   ],
   "source": [
    "import re\n",
    "lines = \"Peter Piper picked a peck of pickled peppers.\\n\\\n",
    "This is second line.\\n\\\n",
    "But this is the 3rd line.\"\n",
    "print(lines)\n",
    "\n",
    "for line in lines.splitlines():\n",
    "    #Remove leading and trailing white spaces\n",
    "    line = line.strip()  \n",
    "    if re.search(\"^T\", line):\n",
    "        print(\"Found a sentnece starts with a T:\", line)\n",
    "    if re.search(\"s.$\", line):\n",
    "        print(\"Found a sentnece ends with a s.:\", line)        "
   ]
  },
  {
   "cell_type": "code",
   "execution_count": null,
   "id": "19cb1bba-3206-48f4-b985-fe6058105648",
   "metadata": {},
   "outputs": [],
   "source": []
  }
 ],
 "metadata": {
  "kernelspec": {
   "display_name": "Python 3 (ipykernel)",
   "language": "python",
   "name": "python3"
  },
  "language_info": {
   "codemirror_mode": {
    "name": "ipython",
    "version": 3
   },
   "file_extension": ".py",
   "mimetype": "text/x-python",
   "name": "python",
   "nbconvert_exporter": "python",
   "pygments_lexer": "ipython3",
   "version": "3.9.7"
  }
 },
 "nbformat": 4,
 "nbformat_minor": 5
}
