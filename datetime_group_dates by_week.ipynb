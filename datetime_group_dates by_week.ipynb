{
 "cells": [
  {
   "cell_type": "markdown",
   "id": "b9ea4c3c-d772-4dbd-a054-30b3c0861700",
   "metadata": {},
   "source": [
    "## Group Dates by Week\n",
    "\n",
    "Given a list of timestamps in sequential order, return a list of lists grouped by week (7 days) using the first timestamp as the starting point.\n",
    " "
   ]
  },
  {
   "cell_type": "markdown",
   "id": "68a962fc-aabf-4d77-a63e-69c817ca2901",
   "metadata": {},
   "source": [
    "```\n",
    "ts = [\n",
    "    '2019-01-01', \n",
    "    '2019-01-02',\n",
    "    '2019-01-08', \n",
    "    '2019-02-01', \n",
    "    '2019-02-02',\n",
    "    '2019-02-05',\n",
    "]\n",
    "\n",
    "def weekly_aggregation(ts) -> [\n",
    "    ['2019-01-01', '2019-01-02'], \n",
    "    ['2019-01-08'], \n",
    "    ['2019-02-01', '2019-02-02'],\n",
    "    ['2019-02-05'],\n",
    "]\n",
    "```"
   ]
  },
  {
   "cell_type": "code",
   "execution_count": 10,
   "id": "d9ed5d67-90cd-4038-8a9f-a6fdffdef3a2",
   "metadata": {},
   "outputs": [],
   "source": [
    "import datetime\n",
    "import dateutil\n",
    "\n",
    "def weekly_aggregation(ts):\n",
    "    if not ts:\n",
    "        return None\n",
    "    #create a dictionary \n",
    "    groups={}\n",
    "    for dt in ts:\n",
    "        week = dateutil.parser.parse(dt).strftime(\"%U\")\n",
    "        if week in groups:\n",
    "            groups[week].append(dt)\n",
    "        else:\n",
    "             groups[week]=[dt]\n",
    "    res=[]\n",
    "    for week in sorted(groups.keys()):\n",
    "        res.append(groups[week])\n",
    "    return res"
   ]
  },
  {
   "cell_type": "code",
   "execution_count": 11,
   "id": "eb7e34f7-270a-4a72-8db6-3b036edbd60c",
   "metadata": {},
   "outputs": [
    {
     "name": "stdout",
     "output_type": "stream",
     "text": [
      "[['2019-01-01', '2019-01-02'], ['2019-01-08'], ['2019-02-01', '2019-02-02'], ['2019-02-05']]\n"
     ]
    }
   ],
   "source": [
    "ts = ['2019-01-01', '2019-01-02', '2019-01-08', '2019-02-01', '2019-02-02', '2019-02-05']\n",
    "print(weekly_aggregation(ts))"
   ]
  },
  {
   "cell_type": "code",
   "execution_count": null,
   "id": "089e5f9b-6c32-426a-ab99-3a6fea71fc05",
   "metadata": {},
   "outputs": [],
   "source": []
  }
 ],
 "metadata": {
  "kernelspec": {
   "display_name": "Python 3 (ipykernel)",
   "language": "python",
   "name": "python3"
  },
  "language_info": {
   "codemirror_mode": {
    "name": "ipython",
    "version": 3
   },
   "file_extension": ".py",
   "mimetype": "text/x-python",
   "name": "python",
   "nbconvert_exporter": "python",
   "pygments_lexer": "ipython3",
   "version": "3.9.7"
  }
 },
 "nbformat": 4,
 "nbformat_minor": 5
}
