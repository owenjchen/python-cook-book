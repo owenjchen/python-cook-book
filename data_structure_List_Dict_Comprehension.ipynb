{
 "cells": [
  {
   "cell_type": "markdown",
   "metadata": {},
   "source": [
    "# Data Structure Tips: List & Dict Comprehension"
   ]
  },
  {
   "cell_type": "markdown",
   "metadata": {},
   "source": [
    "## List Comprehension"
   ]
  },
  {
   "cell_type": "code",
   "execution_count": 2,
   "metadata": {},
   "outputs": [],
   "source": [
    "fruits =[\"Apple\", \"Banana\", \"Cherry\", \"Kiwi\", \"Mango\"]\n",
    "num =[1, 2, 3, 4, 5, 6, 7]"
   ]
  },
  {
   "cell_type": "code",
   "execution_count": 4,
   "metadata": {},
   "outputs": [
    {
     "data": {
      "text/plain": [
       "['Apple', 'Banana', 'Mango']"
      ]
     },
     "execution_count": 4,
     "metadata": {},
     "output_type": "execute_result"
    }
   ],
   "source": [
    "# New lists\n",
    "# Get only those fruits with an \"a\" in its name\n",
    "fruits_a=[x for x in fruits if 'a' in x.lower()]\n",
    "fruits_a"
   ]
  },
  {
   "cell_type": "code",
   "execution_count": 6,
   "metadata": {},
   "outputs": [
    {
     "data": {
      "text/plain": [
       "[2, 4, 6]"
      ]
     },
     "execution_count": 6,
     "metadata": {},
     "output_type": "execute_result"
    }
   ],
   "source": [
    "# Get an even number only from a list\n",
    "num_even=[i for i in num if i%2==0]\n",
    "num_even"
   ]
  },
  {
   "cell_type": "code",
   "execution_count": 10,
   "metadata": {},
   "outputs": [
    {
     "data": {
      "text/plain": [
       "[1, 3, 5, 7, 9]"
      ]
     },
     "execution_count": 10,
     "metadata": {},
     "output_type": "execute_result"
    }
   ],
   "source": [
    "# Generate an odd number list that is below 10\n",
    "num_odd=[i for i in range(1, 10,2)]\n",
    "num_odd"
   ]
  },
  {
   "cell_type": "code",
   "execution_count": 4,
   "metadata": {},
   "outputs": [],
   "source": [
    "# Test your function\n",
    "assert add_nums_lmda(5,10) == add_nums(5,10), \"Your function is incorrect\"\n",
    "assert add_nums_lmda(-5,10) == add_nums(-5,10), \"Your function is incorrect\"\n",
    "assert add_nums_lmda(100,-10) == add_nums(-10,100), \"Your function is incorrect\""
   ]
  },
  {
   "cell_type": "markdown",
   "metadata": {},
   "source": [
    "### Practice List Comprehension: Powers of 2"
   ]
  },
  {
   "cell_type": "code",
   "execution_count": 11,
   "metadata": {},
   "outputs": [
    {
     "name": "stdout",
     "output_type": "stream",
     "text": [
      "[1, 2, 4, 8, 16, 32, 64, 128, 256, 512, 1024, 2048, 4096, 8192, 16384, 32768, 65536, 131072, 262144, 524288, 1048576, 2097152, 4194304, 8388608, 16777216, 33554432, 67108864, 134217728, 268435456, 536870912, 1073741824, 2147483648, 4294967296, 8589934592, 17179869184, 34359738368, 68719476736, 137438953472, 274877906944, 549755813888, 1099511627776, 2199023255552, 4398046511104, 8796093022208, 17592186044416, 35184372088832, 70368744177664, 140737488355328, 281474976710656, 562949953421312, 1125899906842624, 2251799813685248, 4503599627370496, 9007199254740992, 18014398509481984, 36028797018963968, 72057594037927936, 144115188075855872, 288230376151711744, 576460752303423488, 1152921504606846976, 2305843009213693952, 4611686018427387904, 9223372036854775808, 18446744073709551616]\n"
     ]
    }
   ],
   "source": [
    "# Create the list that has all of the powers of 2 from 2^0 to 2^64 inclusive\n",
    "\n",
    "powers_of_two = [2**n for n in range(0, 65)]\n",
    "\n",
    "print(powers_of_two)"
   ]
  },
  {
   "cell_type": "markdown",
   "metadata": {},
   "source": [
    "---\n",
    "## Practicing the comprehension function - Only Vowels\n",
    "\n",
    "Let's use the filter function for the following question.\n",
    "The result of the filter method should be the following list `['o', 'u', 'a', 'o', 'o', 'a', 'e', 'e', 'i', 'o']` once it is casted using `list()`."
   ]
  },
  {
   "cell_type": "code",
   "execution_count": 13,
   "metadata": {},
   "outputs": [
    {
     "data": {
      "text/plain": [
       "['o', 'u', 'a', 'o', 'o', 'a', 'e', 'e', 'i', 'o']"
      ]
     },
     "execution_count": 13,
     "metadata": {},
     "output_type": "execute_result"
    }
   ],
   "source": [
    "sequence = ['t', 'P', 'R', 'Y', 'L', 'U', 'B', 'l', 'N', 'J', 's', 'C', 'p', 'o', 'M', \n",
    "            'x', 'u', 'n', 'q', 'B', 'h', 'W', 'C', 'S', 'L', 'X', 'f', 'T', 'x', 'R', \n",
    "            'a', 'j', 'F', 'J', 'h', 'L', 'I', 'J', 'L', 'W', 'Q', 'S', 'G', 'B', 'P', \n",
    "            'q', 'S', 'Q', 'Q', 'o', 'V', 'L', 'V', 'O', 'G', 'K', 'm', 'Y', 'c', 'k', \n",
    "            'v', 'b', 't', 'h', 'C', 'B', 'k', 'p', 'J', 'N', 'o', 'l', 'R', 'a', 'e', \n",
    "            'S', 'J', 'Q', 'n', 'b', 'g', 'x', 'g', 'K', 'Y', 't', 'e', 'F', 'i', 'T', \n",
    "            'h', 'X', 'o', 'S', 'N', 'l', 'Z', 'U', 'G', 'y']\n",
    "\n",
    "\n",
    "# filter based on a list comprehension\n",
    "sequence_vowels =[c for c in sequence if c in ('a','e','i','o','u')]\n",
    "sequence_vowels"
   ]
  },
  {
   "cell_type": "markdown",
   "metadata": {},
   "source": [
    "## list comprehension - square roots, squares, cube roots and cubes - first 20"
   ]
  },
  {
   "cell_type": "code",
   "execution_count": 21,
   "metadata": {},
   "outputs": [
    {
     "data": {
      "text/plain": [
       "[[1, 1.0, 1, 1.0, 1],\n",
       " [2, 1.4142, 4, 1.2599, 8],\n",
       " [3, 1.7321, 9, 1.4422, 27],\n",
       " [4, 2.0, 16, 1.5874, 64],\n",
       " [5, 2.2361, 25, 1.71, 125],\n",
       " [6, 2.4495, 36, 1.8171, 216],\n",
       " [7, 2.6458, 49, 1.9129, 343],\n",
       " [8, 2.8284, 64, 2.0, 512],\n",
       " [9, 3.0, 81, 2.0801, 729],\n",
       " [10, 3.1623, 100, 2.1544, 1000],\n",
       " [11, 3.3166, 121, 2.224, 1331],\n",
       " [12, 3.4641, 144, 2.2894, 1728],\n",
       " [13, 3.6056, 169, 2.3513, 2197],\n",
       " [14, 3.7417, 196, 2.4101, 2744],\n",
       " [15, 3.873, 225, 2.4662, 3375],\n",
       " [16, 4.0, 256, 2.5198, 4096],\n",
       " [17, 4.1231, 289, 2.5713, 4913],\n",
       " [18, 4.2426, 324, 2.6207, 5832],\n",
       " [19, 4.3589, 361, 2.6684, 6859],\n",
       " [20, 4.4721, 400, 2.7144, 8000]]"
      ]
     },
     "execution_count": 21,
     "metadata": {},
     "output_type": "execute_result"
    }
   ],
   "source": [
    "# create a list of list - 2D array\n",
    "import math\n",
    "squares_cubs = [[x, round(math.sqrt(x), 4), x*x,round(math.pow(x, 1/3), 4), x**3] for x in range(1,21)]\n",
    "squares_cubs"
   ]
  },
  {
   "cell_type": "markdown",
   "metadata": {},
   "source": [
    "## Dictionary Comprehension"
   ]
  },
  {
   "cell_type": "code",
   "execution_count": 23,
   "metadata": {},
   "outputs": [
    {
     "name": "stdout",
     "output_type": "stream",
     "text": [
      "{'1': 1, '2': 2, '3': 3, '4': 4}\n"
     ]
    }
   ],
   "source": [
    "a = {'1': 1, '2': 2, '3': 3, '4': 4}\n",
    "print(a)"
   ]
  },
  {
   "cell_type": "code",
   "execution_count": 24,
   "metadata": {},
   "outputs": [
    {
     "name": "stdout",
     "output_type": "stream",
     "text": [
      "{'1': 1, '2': 2, '3': 3, '4': 4}\n"
     ]
    }
   ],
   "source": [
    "#Generate the above dictionary \n",
    "b = {str(i):i for i in range(1, 5)}\n",
    "print(b)"
   ]
  },
  {
   "cell_type": "code",
   "execution_count": 25,
   "metadata": {},
   "outputs": [
    {
     "name": "stdout",
     "output_type": "stream",
     "text": [
      "{'1': 2, '2': 4, '3': 6, '4': 8}\n"
     ]
    }
   ],
   "source": [
    "square_b = {k:v*2 for (k,v) in b.items()}\n",
    "print(square_b)"
   ]
  },
  {
   "cell_type": "code",
   "execution_count": 27,
   "metadata": {},
   "outputs": [
    {
     "name": "stdout",
     "output_type": "stream",
     "text": [
      "Celsius, Fahrenheit\n",
      "-20 21.6\n",
      "-19 23.4\n",
      "-18 25.2\n",
      "-17 27.0\n",
      "-16 28.8\n",
      "-15 30.6\n",
      "-14 32.4\n",
      "-13 34.2\n",
      "-12 36.0\n",
      "-11 37.8\n",
      "-10 39.6\n",
      "-9 41.4\n",
      "-8 43.2\n",
      "-7 45.0\n",
      "-6 46.8\n",
      "-5 48.6\n",
      "-4 50.4\n",
      "-3 52.2\n",
      "-2 54.0\n",
      "-1 55.8\n",
      "0 57.6\n",
      "1 59.4\n",
      "2 61.2\n",
      "3 63.0\n",
      "4 64.8\n",
      "5 66.6\n",
      "6 68.4\n",
      "7 70.2\n",
      "8 72.0\n",
      "9 73.8\n",
      "10 75.6\n",
      "11 77.4\n",
      "12 79.2\n",
      "13 81.0\n",
      "14 82.8\n",
      "15 84.6\n",
      "16 86.4\n",
      "17 88.2\n",
      "18 90.0\n",
      "19 91.8\n",
      "20 93.6\n",
      "21 95.4\n",
      "22 97.2\n",
      "23 99.0\n",
      "24 100.8\n",
      "25 102.6\n",
      "26 104.4\n",
      "27 106.2\n",
      "28 108.0\n",
      "29 109.8\n",
      "30 111.6\n",
      "31 113.4\n",
      "32 115.2\n",
      "33 117.0\n",
      "34 118.8\n",
      "35 120.6\n",
      "36 122.4\n",
      "37 124.2\n",
      "38 126.0\n",
      "39 127.8\n",
      "40 129.6\n",
      "41 131.4\n",
      "42 133.2\n",
      "43 135.0\n",
      "44 136.8\n",
      "45 138.6\n",
      "46 140.4\n",
      "47 142.2\n",
      "48 144.0\n",
      "49 145.8\n",
      "50 147.6\n",
      "51 149.4\n",
      "52 151.2\n",
      "53 153.0\n",
      "54 154.8\n",
      "55 156.6\n",
      "56 158.4\n",
      "57 160.2\n",
      "58 162.0\n",
      "59 163.8\n",
      "60 165.6\n",
      "61 167.4\n",
      "62 169.2\n",
      "63 171.0\n",
      "64 172.8\n",
      "65 174.6\n",
      "66 176.4\n",
      "67 178.2\n",
      "68 180.0\n",
      "69 181.8\n",
      "70 183.6\n",
      "71 185.4\n",
      "72 187.2\n",
      "73 189.0\n",
      "74 190.8\n",
      "75 192.6\n",
      "76 194.4\n",
      "77 196.2\n",
      "78 198.0\n",
      "79 199.8\n",
      "80 201.6\n",
      "81 203.4\n",
      "82 205.2\n",
      "83 207.0\n",
      "84 208.8\n",
      "85 210.6\n",
      "86 212.4\n",
      "87 214.2\n",
      "88 216.0\n",
      "89 217.8\n",
      "90 219.6\n",
      "91 221.4\n",
      "92 223.2\n",
      "93 225.0\n",
      "94 226.8\n",
      "95 228.6\n",
      "96 230.4\n",
      "97 232.2\n",
      "98 234.0\n",
      "99 235.8\n",
      "100 237.6\n"
     ]
    }
   ],
   "source": [
    "## Generate a fahrenheit to celsius mapping table\n",
    "degree_map={c:float((c+32)*9/5) for c in range(-20, 101)}\n",
    "print(\"Celsius, Fahrenheit\")\n",
    "for c,f in degree_map.items():\n",
    "    print(c,f)"
   ]
  },
  {
   "cell_type": "code",
   "execution_count": null,
   "metadata": {},
   "outputs": [],
   "source": []
  }
 ],
 "metadata": {
  "kernelspec": {
   "display_name": "Python 3 (ipykernel)",
   "language": "python",
   "name": "python3"
  },
  "language_info": {
   "codemirror_mode": {
    "name": "ipython",
    "version": 3
   },
   "file_extension": ".py",
   "mimetype": "text/x-python",
   "name": "python",
   "nbconvert_exporter": "python",
   "pygments_lexer": "ipython3",
   "version": "3.9.7"
  }
 },
 "nbformat": 4,
 "nbformat_minor": 4
}
