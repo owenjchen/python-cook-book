{
 "cells": [
  {
   "cell_type": "markdown",
   "id": "f46044f6-7b92-4fe4-8e01-b8d13ac62142",
   "metadata": {},
   "source": [
    "# Extract a Subset of a Dictionary \n",
    "## with a dictionary comprehension\n",
    "You can extract a subset of a dictionary using the dictionary comprehension method."
   ]
  },
  {
   "cell_type": "code",
   "execution_count": 3,
   "id": "a92d7026-ac91-442a-83e5-ac1dfa15c4bc",
   "metadata": {},
   "outputs": [
    {
     "name": "stdout",
     "output_type": "stream",
     "text": [
      "{'Eva': 96, 'Smith': 66, 'Andrew': 74}\n"
     ]
    }
   ],
   "source": [
    "tests = {\n",
    " 'Alex' : 50,\n",
    " 'Adam' : 43,\n",
    " 'Eva' : 96,\n",
    " 'Smith' : 66,\n",
    " 'Andrew' : 74\n",
    "}\n",
    "pass_grades = { key:val for key, val in tests.items() if val > 60 }\n",
    "print(pass_grades)"
   ]
  },
  {
   "cell_type": "code",
   "execution_count": 2,
   "id": "22ed5446-80fe-4ace-92c1-bf8dbabb5a9c",
   "metadata": {},
   "outputs": [
    {
     "name": "stdout",
     "output_type": "stream",
     "text": [
      "{'Alex': 50, 'Adam': 43, 'Andrew': 74}\n"
     ]
    }
   ],
   "source": [
    "students = { 'Alex', 'Adam', 'Andrew'}\n",
    "a_students_dict = { key:val for key,val in tests.items() if key in students }\n",
    "print(a_students_dict)"
   ]
  },
  {
   "cell_type": "code",
   "execution_count": null,
   "id": "0bea3d1c-0d88-48eb-a31a-3ee5c94cea23",
   "metadata": {},
   "outputs": [],
   "source": []
  }
 ],
 "metadata": {
  "kernelspec": {
   "display_name": "Python 3 (ipykernel)",
   "language": "python",
   "name": "python3"
  },
  "language_info": {
   "codemirror_mode": {
    "name": "ipython",
    "version": 3
   },
   "file_extension": ".py",
   "mimetype": "text/x-python",
   "name": "python",
   "nbconvert_exporter": "python",
   "pygments_lexer": "ipython3",
   "version": "3.9.7"
  }
 },
 "nbformat": 4,
 "nbformat_minor": 5
}
