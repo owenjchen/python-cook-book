{
 "cells": [
  {
   "cell_type": "markdown",
   "id": "089a0d48-76e9-4cc7-a68b-dfd21de011de",
   "metadata": {},
   "source": [
    "# Jupyter Notebook Markdown (MD) Format Tips\n",
    "* Author: Owen Chen\n",
    "* Date: 4/4/2022\n",
    "\n",
    "**Quick Tips:**\n",
    "- Headings with #, ##, ###, #### etc\n",
    "- List item as a bullet: dash and space -\n",
    "- List item as a number: Simple as number and dot 1.\n",
    "- Make text ITALIC: *Italic*\n",
    "- Make text BOLD: **Bold**\n",
    "- Indenting text: Greater than and space >\n",
    "- Inline code span: Back quotation mark \" ` \"\n",
    "- Block of code: Triple back quotation marks \" ``` \"\n",
    "- Link a section: [Title of Section](#title-of-section)\n",
    "- Hyperlink: [Text](URL)\n",
    "\n",
    "<a id=toc></a>\n",
    "### Table of Contents\n",
    "- [HEADINGS](#heading)\n",
    "- [TEXT EMPHASIS](#bold)\n",
    "- [LINE BREAK](#line)\n",
    "- [Block Quote](#quote)\n",
    "- [Code Section](#code)\n",
    "- [HORIZONTAL LINE](#hr)\n",
    "- [Ordered List](#list)\n",
    "- [Unordered List](#list2)\n",
    "- [Table](#table)\n",
    "- [REFERENCE-STYLE LINKS](#ref)\n",
    "- [Insert a picture](#pic)\n",
    "- [Latex Math](#math)"
   ]
  },
  {
   "cell_type": "markdown",
   "id": "aed01984-c8b7-404a-bdf8-ca4795847626",
   "metadata": {},
   "source": [
    "<a id=heading></a>\n",
    "## HEADINGS\n",
    "\n",
    "* Markdown Syntax\n",
    "    ```\n",
    "    # Header 1\n",
    "    ## Header 2\n",
    "    ### Header 3\n",
    "    #### Header 4\n",
    "    ##### Header 5\n",
    "    ###### Header 6\n",
    "    ```\n",
    "# Header 1\n",
    "## Header 2\n",
    "### Header 3\n",
    "#### Header 4\n",
    "##### Header 5\n",
    "###### Header 6"
   ]
  },
  {
   "cell_type": "markdown",
   "id": "823f5b63-d9af-4f46-805a-dcbc58363065",
   "metadata": {},
   "source": [
    "* Equivalent HTML Syntax\n",
    "    ```\n",
    "    <h1>Header 1</h1>\n",
    "    <h2>Header 2</h2>\n",
    "    <h3>Header 3</h3>\n",
    "    <h4>Header 4</h4>\n",
    "    <h5>Header 5</h5>\n",
    "    <h6>Header 6</h6>\n",
    "    ```\n",
    "\n",
    "<h1>Header 1</h1>\n",
    "<h2>Header 2</h2>\n",
    "<h3>Header 3</h3>\n",
    "<h4>Header 4</h4>\n",
    "<h5>Header 5</h5>\n",
    "<h6>Header 6</h6>"
   ]
  },
  {
   "cell_type": "markdown",
   "id": "10f5ec51-574d-4a5d-9a87-566f9b16dccd",
   "metadata": {},
   "source": [
    "<a id=bold></a>\n",
    "# TEXT EMPHASIS\n",
    "- **BOLD Syntax**\n",
    "    ```\n",
    "    **This is bold text**  \n",
    "    __This is bold text__\n",
    "    ```"
   ]
  },
  {
   "cell_type": "markdown",
   "id": "53b94661-24c0-4b54-a3b7-776066313a6f",
   "metadata": {},
   "source": [
    "**This is bold text**  \n",
    "__This is bold text__"
   ]
  },
  {
   "cell_type": "markdown",
   "id": "f30aebc2-e1e1-4783-ba92-7e37a1d84533",
   "metadata": {},
   "source": [
    "* Equivalent HTML\n",
    "```\n",
    "<strong>This is bold text</strong>\n",
    "<b>This is bold text</b>\n",
    "```\n",
    "\n",
    "<strong>This is bold text</strong>\n",
    "\n",
    "<b>This is bold text</b>"
   ]
  },
  {
   "cell_type": "markdown",
   "id": "86db1338-1282-43d6-b819-6a5293e38c87",
   "metadata": {},
   "source": [
    "## ITALIC\n",
    "- _Markdown Syntax_\n",
    "    ```\n",
    "    *This is italic text*  \n",
    "    _This is italic text_\n",
    "    ```\n",
    "   \n",
    "    *This is italic text*\n",
    "\n",
    "    _This is italic text_\n",
    "\n",
    "- _Equivalent HTML Syntax_\n",
    "    ```\n",
    "    <em>This is italic text</em>\n",
    "    ```\n",
    "    "
   ]
  },
  {
   "cell_type": "markdown",
   "id": "fc304473-d8aa-4b66-a0c0-35e39e090edc",
   "metadata": {},
   "source": [
    "<a id=line></a>\n",
    "# LINE BREAK - PARAGRAPHS\n",
    "A paragraph is simply one or more consecutive lines of text, separated by one or more blank lines.\n",
    "\n",
    "Some text in line 1\n",
    "\n",
    "Some more text in line 2"
   ]
  },
  {
   "cell_type": "markdown",
   "id": "0d7ae377-c703-4fdc-b54f-edbe055807ac",
   "metadata": {},
   "source": [
    "<a id=quote></a>\n",
    "# BLOCKQUOTES\n",
    "Blockquotes can hold the large chunk of text and are generally indented.\n",
    "\n",
    "> This is a blockquote"
   ]
  },
  {
   "cell_type": "markdown",
   "id": "0e009c62-3fe2-44e7-b3b5-4f598f38c954",
   "metadata": {},
   "source": [
    "## NESTED BLOCK QUOTING\n",
    "\n",
    "> some text\n",
    ">> and then some more text\n",
    ">>> and then some more"
   ]
  },
  {
   "cell_type": "markdown",
   "id": "64c7bbc5-0561-47b4-a9a9-7a09fe7c7123",
   "metadata": {},
   "source": [
    "<a id=code></a>\n",
    "# Code Section\n",
    "Use ``` to enclose code.  It is optional to indicate the type of language \n",
    "\n",
    "```\n",
    "    ```javascript\n",
    "    var s = \"JavaScript syntax highlighting\";\n",
    "    alert(s);\n",
    "    ```\n",
    "    ```\n",
    "    # No syntax highlight\n",
    "    highlight=True\n",
    "    if highlight:\n",
    "        s = \"Python syntax highlighting\"\n",
    "    else:\n",
    "       s = \"Python syntax\"\n",
    "    print s\n",
    "    ```\n",
    "    \n",
    "    ```python\n",
    "    # with syntax highlight\n",
    "    highlight=True\n",
    "    if highlight:\n",
    "        s = \"Python syntax highlighting\"\n",
    "    else:\n",
    "       s = \"Python syntax\"\n",
    "    print s\n",
    "    ```    \n",
    "    \n",
    "```\n",
    "\n",
    "```javascript\n",
    "var s = \"JavaScript syntax highlighting\";\n",
    "alert(s);\n",
    "```\n",
    "```\n",
    "# No syntax highlight\n",
    "highlight=True\n",
    "if highlight:\n",
    "    s = \"Python syntax highlighting\"\n",
    "else:\n",
    "   s = \"Python syntax\"\n",
    "print s\n",
    "```\n",
    "\n",
    "```python\n",
    "# with syntax highlight\n",
    "highlight=True\n",
    "if highlight:\n",
    "    s = \"Python syntax highlighting\"\n",
    "else:\n",
    "   s = \"Python syntax\"\n",
    "print s\n",
    "```"
   ]
  },
  {
   "cell_type": "markdown",
   "id": "cf0be375-6f21-4752-b71b-97fbf83f828a",
   "metadata": {},
   "source": [
    "<a id=hr></a>\n",
    "# HORIZONTAL LINE\n",
    "Three ways to create a horizontal line:\n",
    "```\n",
    "---\n",
    "___\n",
    "\n",
    "***\n",
    "```\n",
    "\n",
    "---\n",
    "___\n",
    "\n",
    "***\n",
    "\n",
    "## Equivalent HTML Syntax\n",
    "```\n",
    "<hr>\n",
    "```\n",
    "<hr>"
   ]
  },
  {
   "cell_type": "markdown",
   "id": "8b4f91ee-9d4f-431b-b7e5-4bbb87ec8a89",
   "metadata": {},
   "source": [
    "<a id=list></a>\n",
    "# ORDERED LIST\n",
    "\n",
    "1. Cheese\n",
    "2. Carrot\n",
    "3. Coconut\n",
    "\n",
    "* Equivalent HTML\n",
    "```\n",
    "<ol>\n",
    " <li>Cheese</li>\n",
    " <li>Carrot</li>\n",
    " <li>Coconut</li>\n",
    "</ol>\n",
    "```"
   ]
  },
  {
   "cell_type": "markdown",
   "id": "edd2792b-e2ef-4d3e-8b0c-12ce7f9be98e",
   "metadata": {},
   "source": [
    "<a id=list2></a>\n",
    "# UNORDERED LIST\n",
    "```\n",
    "- Cheese\n",
    "- Carrot\n",
    "- Coconut\n",
    "```\n",
    "- Cheese\n",
    "- Carrot\n",
    "- Coconut\n",
    "\n",
    "or\n",
    "```\n",
    "* Cheese\n",
    "* Carrot\n",
    "* Coconut\n",
    "```\n",
    "* Cheese\n",
    "* Carrot\n",
    "* Coconut\n",
    "\n",
    "\n",
    "* Equivalent HTML\n",
    "```\n",
    "<ul>\n",
    " <li>Cheese</li>\n",
    " <li>Carrot</li>\n",
    " <li>Coconut</li>\n",
    " </ul>\n",
    "```"
   ]
  },
  {
   "cell_type": "markdown",
   "id": "e6f27d5a-5590-4135-88c0-53c20a5f8dad",
   "metadata": {},
   "source": [
    "<a id=table></a>\n",
    "# TABLE\n",
    "\n",
    "A table can be constructed using | (pipe symbol) and — (dash) to mark columns and rows.\n",
    "\n",
    "- Markdown Syntax\n",
    "```\n",
    "|Header|Header|Header|\n",
    "|------|------|------|\n",
    "|A     |B     |C     |\n",
    "|X     |Y     |Z     |\n",
    "```\n",
    "|Header|Header|Header|\n",
    "|------|------|------|\n",
    "|A     |B     |C     |\n",
    "|X     |Y     |Z     |"
   ]
  },
  {
   "cell_type": "markdown",
   "id": "5b7d073a-9e52-4b0d-a2b0-9646b424f937",
   "metadata": {},
   "source": [
    "## Align text in a table\n",
    "- Use :-: for centered\n",
    "- Use — for right centered\n",
    "- Use :- for left centered\n",
    "\n",
    "```\n",
    "|Header|Header|Header|\n",
    "|:------|:-------:|-------:|\n",
    "|A left |B center |C  right|\n",
    "|X      |Y        |Z       |\n",
    "```\n",
    "|Header|Header|Header|\n",
    "|:------|:-------:|-------:|\n",
    "|A left |B center |C  right|\n",
    "|X      |Y        |Z       |\n"
   ]
  },
  {
   "cell_type": "markdown",
   "id": "2662a30e-ec4b-4890-bbd2-b35f9ec43ec2",
   "metadata": {},
   "source": [
    "<a id=ref></a>\n",
    "# REFERENCE-STYLE LINKS\n",
    "* Define each section with an id value:\n",
    "``` \n",
    "<a id=idval></a>\n",
    "```\n",
    "* Reference to this idval with \n",
    "```\n",
    "[text](#idval)\n",
    "```\n",
    "\n",
    "* [Table of Content](#toc) of this doc"
   ]
  },
  {
   "cell_type": "markdown",
   "id": "f6111062-4697-4d12-93a2-e4e94d38b0fb",
   "metadata": {},
   "source": [
    "<a id=pic></a>\n",
    "# Insert a picture\n",
    "\n",
    "* Copy a picture to the current folder or a subfolder\n",
    "* Refer to this picture\n",
    "```\n",
    "![](<file.png <=>)\n",
    "```\n",
    "- Example:\n",
    "![](lambda_diagram.png)"
   ]
  },
  {
   "cell_type": "markdown",
   "id": "f9e2c18f-7739-427b-8340-a63086edf93f",
   "metadata": {},
   "source": [
    "<a id=math></a>\n",
    "# LaTeX MATH\n",
    "\n",
    "Jupyter Notebooks’ Markdown cells support LateX for formatting mathematical equations. To tell Markdown to interpret your text as LaTex, surround your input with dollar signs like this:\n",
    "\n",
    "``` \n",
    "x = $\\frac{\\sqrt{k^3}}{2a}$\n",
    "\n",
    "```\n",
    "\n",
    "x = $\\frac{\\sqrt{k^3}}{2a}$"
   ]
  },
  {
   "cell_type": "markdown",
   "id": "89eef58f-3d7b-426a-8c9b-39a029bf9d0e",
   "metadata": {},
   "source": [
    "[Go back to beginning](#toc)"
   ]
  },
  {
   "cell_type": "code",
   "execution_count": null,
   "id": "a7d8783c-6ad8-477a-9803-66a42d184fc2",
   "metadata": {},
   "outputs": [],
   "source": []
  }
 ],
 "metadata": {
  "kernelspec": {
   "display_name": "Python 3 (ipykernel)",
   "language": "python",
   "name": "python3"
  },
  "language_info": {
   "codemirror_mode": {
    "name": "ipython",
    "version": 3
   },
   "file_extension": ".py",
   "mimetype": "text/x-python",
   "name": "python",
   "nbconvert_exporter": "python",
   "pygments_lexer": "ipython3",
   "version": "3.9.7"
  }
 },
 "nbformat": 4,
 "nbformat_minor": 5
}
