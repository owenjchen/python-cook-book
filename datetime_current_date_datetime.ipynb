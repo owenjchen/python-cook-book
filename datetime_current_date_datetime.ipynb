{
 "cells": [
  {
   "cell_type": "markdown",
   "id": "df88b862-9457-4a0e-82bf-35a2b8433e09",
   "metadata": {},
   "source": [
    "# Get current Date, Datetime or Timestamp\n",
    "* Get the current date & time using datetime.now()"
   ]
  },
  {
   "cell_type": "code",
   "execution_count": 20,
   "id": "838a450b-958f-44dd-a019-33d74b84cf3f",
   "metadata": {},
   "outputs": [
    {
     "name": "stdout",
     "output_type": "stream",
     "text": [
      "2022-03-30 01:07:49.276625\n"
     ]
    }
   ],
   "source": [
    "from datetime import datetime\n",
    "# Returns a datetime object containing the local date and time\n",
    "dateTimeObj = datetime.now()\n",
    "print(dateTimeObj)"
   ]
  },
  {
   "cell_type": "code",
   "execution_count": 21,
   "id": "67e830d0-49c0-4960-b8a2-cf714d3f5dd5",
   "metadata": {},
   "outputs": [
    {
     "name": "stdout",
     "output_type": "stream",
     "text": [
      "2022 / 3 / 30\n",
      "1 : 7 : 49 . 276625\n"
     ]
    }
   ],
   "source": [
    "print(dateTimeObj.year, '/', dateTimeObj.month, '/', dateTimeObj.day)\n",
    "print(dateTimeObj.hour, ':', dateTimeObj.minute, ':', dateTimeObj.second, '.', dateTimeObj.microsecond)"
   ]
  },
  {
   "cell_type": "code",
   "execution_count": 24,
   "id": "e6f85756-d831-4580-a022-00d43e786832",
   "metadata": {},
   "outputs": [
    {
     "name": "stdout",
     "output_type": "stream",
     "text": [
      "Current Timestamp :  30-Mar-2022 (01:07:49.276625)\n",
      "Current Timestamp :  30-03-2022 01:07:49\n"
     ]
    }
   ],
   "source": [
    "timestampStr = dateTimeObj.strftime(\"%d-%b-%Y (%H:%M:%S.%f)\")\n",
    "print('Current Timestamp : ', timestampStr)\n",
    "timestampStr = dateTimeObj.strftime(\"%d-%m-%Y %H:%M:%S\")\n",
    "print('Current Timestamp : ', timestampStr)"
   ]
  },
  {
   "cell_type": "markdown",
   "id": "8c57686a-e5ef-435a-82e6-a654e67f1aa5",
   "metadata": {},
   "source": [
    "## Get the current Date only"
   ]
  },
  {
   "cell_type": "code",
   "execution_count": 25,
   "id": "7ea5fcd8-691c-486e-9cd7-20b093a6b945",
   "metadata": {},
   "outputs": [
    {
     "name": "stdout",
     "output_type": "stream",
     "text": [
      "2022-03-30\n"
     ]
    }
   ],
   "source": [
    "dateTimeObj = datetime.now()\n",
    "# get the date object from datetime object\n",
    "dateObj = dateTimeObj.date()\n",
    "print(dateObj)"
   ]
  },
  {
   "cell_type": "code",
   "execution_count": 26,
   "id": "a1019d3e-3c68-4d1e-bf08-1a4425f10d6c",
   "metadata": {},
   "outputs": [
    {
     "name": "stdout",
     "output_type": "stream",
     "text": [
      "2022 / 3 / 30\n"
     ]
    }
   ],
   "source": [
    "# Access the member variables of date object to print\n",
    "print(dateObj.year, '/', dateObj.month, '/', dateObj.day)"
   ]
  },
  {
   "cell_type": "code",
   "execution_count": 28,
   "id": "07a24fd8-5abf-4c85-a83e-43175bdeba6c",
   "metadata": {},
   "outputs": [
    {
     "name": "stdout",
     "output_type": "stream",
     "text": [
      "Mar 30, 2022 \n"
     ]
    }
   ],
   "source": [
    "# Converting date object to string\n",
    "dateStr = dateObj.strftime(\"%b %d, %Y \")\n",
    "print(dateStr)"
   ]
  },
  {
   "cell_type": "markdown",
   "id": "54275a6e-7bc8-4f99-950f-d0dce57d7b11",
   "metadata": {},
   "source": [
    "## Get the current Time only"
   ]
  },
  {
   "cell_type": "code",
   "execution_count": 29,
   "id": "8c4254f0-7a5a-4eed-bf20-25006aabe99a",
   "metadata": {},
   "outputs": [
    {
     "name": "stdout",
     "output_type": "stream",
     "text": [
      "01:13:05.620555\n"
     ]
    }
   ],
   "source": [
    "# Returns a datetime object containing the local date and time\n",
    "dateTimeObj = datetime.now()\n",
    "# get the time object from datetime object\n",
    "timeObj = dateTimeObj.time()\n",
    "print(timeObj)"
   ]
  },
  {
   "cell_type": "code",
   "execution_count": 30,
   "id": "49621086-9362-47eb-af0c-7b4048b8f652",
   "metadata": {},
   "outputs": [
    {
     "name": "stdout",
     "output_type": "stream",
     "text": [
      "1 : 13 : 5 . 620555\n"
     ]
    }
   ],
   "source": [
    "# Access the member variables of time object to print time information\n",
    "print(timeObj.hour, ':', timeObj.minute, ':', timeObj.second, '.', timeObj.microsecond)"
   ]
  },
  {
   "cell_type": "code",
   "execution_count": 31,
   "id": "c819eee9-8e9c-4f2b-8a1b-77a7fe8045c5",
   "metadata": {},
   "outputs": [
    {
     "name": "stdout",
     "output_type": "stream",
     "text": [
      "01:13:05.620555\n"
     ]
    }
   ],
   "source": [
    "timeStr = timeObj.strftime(\"%H:%M:%S.%f\")\n",
    "print(timeStr)"
   ]
  },
  {
   "cell_type": "markdown",
   "id": "b8f6f428-76e8-4194-a04b-3a67c82122c8",
   "metadata": {},
   "source": [
    "## Get Current Timestamp in seconds using time.time()"
   ]
  },
  {
   "cell_type": "code",
   "execution_count": 38,
   "id": "18724790-eab1-4b44-971c-bdac1fb1de2b",
   "metadata": {},
   "outputs": [
    {
     "name": "stdout",
     "output_type": "stream",
     "text": [
      "1648617569.5897784\n",
      "time.struct_time(tm_year=2022, tm_mon=3, tm_mday=30, tm_hour=1, tm_min=19, tm_sec=29, tm_wday=2, tm_yday=89, tm_isdst=1)\n"
     ]
    }
   ],
   "source": [
    "import time\n",
    "# Get the seconds since epoch\n",
    "timeEpoch = time.time()\n",
    "print(timeEpoch)\n",
    "# Convert seconds since epoch to struct_time\n",
    "timeObj = time.localtime(timeEpoch)\n",
    "print(timeObj)"
   ]
  },
  {
   "cell_type": "code",
   "execution_count": null,
   "id": "ecfed03a-f507-4522-9756-c21006ba1412",
   "metadata": {},
   "outputs": [],
   "source": []
  }
 ],
 "metadata": {
  "kernelspec": {
   "display_name": "Python 3 (ipykernel)",
   "language": "python",
   "name": "python3"
  },
  "language_info": {
   "codemirror_mode": {
    "name": "ipython",
    "version": 3
   },
   "file_extension": ".py",
   "mimetype": "text/x-python",
   "name": "python",
   "nbconvert_exporter": "python",
   "pygments_lexer": "ipython3",
   "version": "3.9.7"
  }
 },
 "nbformat": 4,
 "nbformat_minor": 5
}
