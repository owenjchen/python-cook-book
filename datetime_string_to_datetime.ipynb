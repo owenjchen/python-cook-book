{
 "cells": [
  {
   "cell_type": "markdown",
   "id": "df88b862-9457-4a0e-82bf-35a2b8433e09",
   "metadata": {},
   "source": [
    "# Convert Strings Into Datetimes\n",
    "1. Use the <b> strptime() </b> method from the <b> datetime</b> class to convert a string representation of the date/time into a date object.\n",
    "2. Parse a string to year, month, day and then use the <b> datetime() </b> method to create a datetime"
   ]
  },
  {
   "cell_type": "markdown",
   "id": "7d0f55e4-0cd7-466d-8be9-56b6a8823097",
   "metadata": {
    "editable": true,
    "tags": []
   },
   "source": [
    "## Date and Time Data Types and Tools"
   ]
  },
  {
   "cell_type": "code",
   "execution_count": 42,
   "id": "db672715-0be2-40ba-aa56-3e3f73977e1f",
   "metadata": {
    "collapsed": false,
    "editable": true,
    "jupyter": {
     "outputs_hidden": false
    }
   },
   "outputs": [
    {
     "name": "stdout",
     "output_type": "stream",
     "text": [
      "2022-04-05 07:11:25.104376\n",
      "2022 4 5 7 11 25\n"
     ]
    }
   ],
   "source": [
    "from datetime import datetime\n",
    "now = datetime.now()\n",
    "print(now)\n",
    "print(now.year, now.month, now.day, now.hour, now.minute, now.second)"
   ]
  },
  {
   "cell_type": "code",
   "execution_count": 43,
   "id": "146ca0d5-20a0-48ac-970b-2ae2b21a8c23",
   "metadata": {
    "collapsed": false,
    "editable": true,
    "jupyter": {
     "outputs_hidden": false
    }
   },
   "outputs": [
    {
     "name": "stdout",
     "output_type": "stream",
     "text": [
      "926 days, 15:45:00\n",
      "926\n",
      "56700\n"
     ]
    }
   ],
   "source": [
    "delta = datetime(2011, 1, 7) - datetime(2008, 6, 24, 8, 15)\n",
    "print(delta)\n",
    "print(delta.days)\n",
    "print(delta.seconds)"
   ]
  },
  {
   "cell_type": "code",
   "execution_count": 44,
   "id": "f018aaf1-7fd2-4474-aa55-28a2561ceaf5",
   "metadata": {
    "collapsed": false,
    "editable": true,
    "jupyter": {
     "outputs_hidden": false
    }
   },
   "outputs": [
    {
     "name": "stdout",
     "output_type": "stream",
     "text": [
      "2011-01-07 00:00:00\n",
      "2011-01-19 00:00:00\n",
      "2011-01-19 00:00:00\n",
      "2010-12-14 00:00:00\n"
     ]
    }
   ],
   "source": [
    "from datetime import timedelta\n",
    "start = datetime(2011, 1, 7)\n",
    "print(start)\n",
    "# default timedelta is days\n",
    "print(start + timedelta(12))\n",
    "# set days= explicitly\n",
    "print(start + timedelta(days=12))\n",
    "print(start - 2 * timedelta(12))"
   ]
  },
  {
   "cell_type": "markdown",
   "id": "e46024d0-9b68-47be-a01e-2f1b58f23b4b",
   "metadata": {
    "editable": true
   },
   "source": [
    "# Convert a String to a Datetime"
   ]
  },
  {
   "cell_type": "markdown",
   "id": "ae87fbb8-f7ef-4afc-b285-3b59686ed837",
   "metadata": {},
   "source": [
    "### - strip.strftime() to convert a string to datetime\n",
    "### - datetime.strptime() to convert a datetime to a string\n",
    "\n",
    "* Time format\n",
    "https://docs.python.org/3/library/datetime.html#strftime-and-strptime-format-codes\n",
    "\n",
    "* Common format:\n",
    "     - %Y-%m-%d  2022-01-31\n",
    "     - %m/%d/%Y  01/31/2022\n",
    "     - %b-%d-%Y  Jan-31-2022 \n",
    "     - %B-%d-%Y  January-31-2022\n",
    "     - %m/%d/%y  01/31/22\n",
    "     - %j-%Y     031-22   Julian day of the year\n",
    "     - %U-%Y     05-22   Week number of the year with Sunday as the first day of the week\n",
    "     - %W-%Y     05-22   Week number of the year with Monday as the first day of the week\n",
    "     - %A, %Y-%m-%d Monday, 2022-01-31 \n",
    "     - %a, %Y-%m-%d Mon, 2022-01-31\n",
    "     \n",
    "### - dateutil.parser.parse() to parse any datetime string to a datetime"
   ]
  },
  {
   "cell_type": "markdown",
   "id": "beafda79-7b70-49a7-b3c1-ac0be5a7a4d4",
   "metadata": {
    "tags": []
   },
   "source": [
    "## Method 1 - Convert a string to datetime with strptime() \n",
    "### Need to specify datetime format\n",
    "\n",
    "     - %Y-%m-%d  2022-01-31\n",
    "     - %m/%d/%Y  01/31/2022\n",
    "     - %b-%d-%Y  Jan-31-2022 \n",
    "     - %B-%d-%Y  January-31-2022\n",
    "     - %m/%d/%y  01/31/22\n",
    "     - %j-%Y     031-22   Julian day of the year\n",
    "     - %U-%Y     05-22   Week number of the year with Sunday as the first day of the week\n",
    "     - %W-%Y     05-22   Week number of the year with Monday as the first day of the week\n",
    "     - %A, %Y-%m-%d Monday, 2022-01-31 \n",
    "     - %a, %Y-%m-%d Mon, 2022-01-31"
   ]
  },
  {
   "cell_type": "markdown",
   "id": "ca3e5afa-dd79-4324-94ab-4a6e5cde2abb",
   "metadata": {},
   "source": [
    "## 1.1 convert a Date string to Datetime"
   ]
  },
  {
   "cell_type": "code",
   "execution_count": 45,
   "id": "838a450b-958f-44dd-a019-33d74b84cf3f",
   "metadata": {
    "tags": []
   },
   "outputs": [
    {
     "name": "stdout",
     "output_type": "stream",
     "text": [
      "2022-01-03\n",
      "<class 'str'>\n",
      "2022-01-03 00:00:00\n",
      "<class 'datetime.datetime'>\n",
      "2022-01-03\n",
      "<class 'datetime.date'>\n"
     ]
    }
   ],
   "source": [
    "from datetime import datetime\n",
    "str = '2022-01-03'\n",
    "print(str)\n",
    "print(type(str))\n",
    "datetime_object = datetime.strptime(str, '%Y-%m-%d')\n",
    "date_object = datetime_object.date()\n",
    "print(datetime_object)\n",
    "print(type(datetime_object))\n",
    "print(date_object)\n",
    "print(type(date_object))"
   ]
  },
  {
   "cell_type": "markdown",
   "id": "28ce8e53-c203-416a-abdb-f87bd2258601",
   "metadata": {},
   "source": [
    "## 1.2 convert a Datetime string to Datetime"
   ]
  },
  {
   "cell_type": "code",
   "execution_count": 46,
   "id": "67e830d0-49c0-4960-b8a2-cf714d3f5dd5",
   "metadata": {},
   "outputs": [
    {
     "name": "stdout",
     "output_type": "stream",
     "text": [
      "2022-01-03 12:30:00\n",
      "<class 'datetime.datetime'>\n"
     ]
    }
   ],
   "source": [
    "# Parse a Datetime\n",
    "str = '2022-01-03 12:30:00'\n",
    "datetime_object = datetime.strptime(str, '%Y-%m-%d %H:%M:%S')\n",
    "print(datetime_object)\n",
    "print(type(datetime_object))"
   ]
  },
  {
   "cell_type": "code",
   "execution_count": 47,
   "id": "ddebff9a-6e5d-47f8-94fa-e681852ea003",
   "metadata": {
    "collapsed": false,
    "editable": true,
    "jupyter": {
     "outputs_hidden": false
    }
   },
   "outputs": [
    {
     "name": "stdout",
     "output_type": "stream",
     "text": [
      "2011-01-03 00:00:00\n",
      "2018-06-29 17:08:00\n",
      "[datetime.datetime(2011, 7, 6, 0, 0), datetime.datetime(2011, 8, 6, 0, 0)]\n"
     ]
    }
   ],
   "source": [
    "#Parse a string to a datetime to a string using strptime()\n",
    "value = '2011-01-03'\n",
    "dt = datetime.strptime(value, '%Y-%m-%d')\n",
    "print(dt)\n",
    "\n",
    "value = '2018-06-29 17:08:00'\n",
    "dt = datetime.strptime(value, '%Y-%m-%d %H:%M:%S')\n",
    "print(dt)\n",
    "\n",
    "datestrs = ['7/6/2011', '8/6/2011']\n",
    "dt_list = [datetime.strptime(x, '%m/%d/%Y') for x in datestrs]\n",
    "print(dt_list)"
   ]
  },
  {
   "cell_type": "markdown",
   "id": "ebbbf855-eddf-45d3-87b1-3c8e5de05b55",
   "metadata": {},
   "source": [
    "## Method 2 - dateutil.parser.parse() \n",
    "### Parse any datetime string to a datetime without specifying format"
   ]
  },
  {
   "cell_type": "code",
   "execution_count": 48,
   "id": "27a54c19-1199-4a47-8112-e71c31577841",
   "metadata": {
    "collapsed": false,
    "editable": true,
    "jupyter": {
     "outputs_hidden": false
    }
   },
   "outputs": [
    {
     "data": {
      "text/plain": [
       "datetime.datetime(2011, 1, 3, 0, 0)"
      ]
     },
     "execution_count": 48,
     "metadata": {},
     "output_type": "execute_result"
    }
   ],
   "source": [
    "from dateutil.parser import parse\n",
    "parse('2011-01-03')"
   ]
  },
  {
   "cell_type": "code",
   "execution_count": 49,
   "id": "f78a5f08-9545-44b0-bacf-de0a17845c72",
   "metadata": {
    "collapsed": false,
    "editable": true,
    "jupyter": {
     "outputs_hidden": false
    }
   },
   "outputs": [
    {
     "data": {
      "text/plain": [
       "datetime.datetime(1997, 1, 31, 22, 45)"
      ]
     },
     "execution_count": 49,
     "metadata": {},
     "output_type": "execute_result"
    }
   ],
   "source": [
    "parse('Jan 31, 1997 10:45 PM')"
   ]
  },
  {
   "cell_type": "code",
   "execution_count": 50,
   "id": "6ce573e5-e95e-4e2d-834f-4d60b27f7486",
   "metadata": {},
   "outputs": [
    {
     "data": {
      "text/plain": [
       "datetime.datetime(2011, 6, 12, 0, 0)"
      ]
     },
     "execution_count": 50,
     "metadata": {},
     "output_type": "execute_result"
    }
   ],
   "source": [
    "# by default month is before day\n",
    "parse('6/12/2011')"
   ]
  },
  {
   "cell_type": "code",
   "execution_count": 51,
   "id": "be3216ce-a7d1-4edd-afa3-9365707facae",
   "metadata": {
    "collapsed": false,
    "editable": true,
    "jupyter": {
     "outputs_hidden": false
    }
   },
   "outputs": [
    {
     "data": {
      "text/plain": [
       "datetime.datetime(2011, 12, 6, 0, 0)"
      ]
     },
     "execution_count": 51,
     "metadata": {},
     "output_type": "execute_result"
    }
   ],
   "source": [
    "# specify dayfirst\n",
    "parse('6/12/2011', dayfirst=True)"
   ]
  },
  {
   "cell_type": "code",
   "execution_count": 52,
   "id": "8b7791c3-0578-40e3-a104-b24a6118c0cc",
   "metadata": {},
   "outputs": [
    {
     "name": "stdout",
     "output_type": "stream",
     "text": [
      "[datetime.datetime(2018, 6, 29, 8, 15, 27, 243860), datetime.datetime(2018, 6, 28, 7, 40), datetime.datetime(2018, 6, 28, 7, 40), datetime.datetime(2017, 9, 18, 22, 19, 55), datetime.datetime(1999, 5, 12, 12, 30), datetime.datetime(2015, 3, 21, 0, 0), datetime.datetime(2018, 3, 12, 10, 12, 45, tzinfo=tzutc()), datetime.datetime(2018, 6, 29, 17, 8, 0, 586525, tzinfo=tzutc()), datetime.datetime(2018, 6, 29, 17, 8, 0, 586525, tzinfo=tzoffset(None, 18000)), datetime.datetime(2017, 9, 6, 16, 30)]\n"
     ]
    }
   ],
   "source": [
    "string_array = [\n",
    "    '2018-06-29 08:15:27.243860',\n",
    "    'Jun 28 2018 7:40AM',\n",
    "    'Jun 28 2018 at 7:40AM',\n",
    "    'September 18, 2017, 22:19:55',\n",
    "    'Sun, 05/12/1999, 12:30PM',\n",
    "    'Mon, 21 March, 2015',\n",
    "    '2018-03-12T10:12:45Z',\n",
    "    '2018-06-29 17:08:00.586525+00:00',\n",
    "    '2018-06-29 17:08:00.586525+05:00',\n",
    "    'Tuesday , 6th September, 2017 at 4:30pm'\n",
    "]\n",
    "datetime_array = [parse(s) for s in string_array]\n",
    "print(datetime_array)"
   ]
  },
  {
   "cell_type": "markdown",
   "id": "47570397-f88d-4b1f-b736-6d8b8f19fa11",
   "metadata": {},
   "source": [
    "## Method 3 -  pandas.to_datetime()\n",
    "### Parse any datetime string to a datetime"
   ]
  },
  {
   "cell_type": "code",
   "execution_count": 53,
   "id": "63bd6da7-4235-426c-b272-6ff48a2d83b9",
   "metadata": {
    "collapsed": false,
    "editable": true,
    "jupyter": {
     "outputs_hidden": false
    }
   },
   "outputs": [
    {
     "name": "stdout",
     "output_type": "stream",
     "text": [
      "type: <class 'pandas.core.indexes.base.Index'>\n",
      "ps_date= Index([      2018-06-29 08:15:27.243860,              2018-06-28 07:40:00,\n",
      "                    2018-06-28 07:40:00,              2017-09-18 22:19:55,\n",
      "                    1999-05-12 12:30:00,              2015-03-21 00:00:00,\n",
      "              2018-03-12 10:12:45+00:00, 2018-06-29 17:08:00.586525+00:00,\n",
      "       2018-06-29 17:08:00.586525+05:00,              2017-09-06 16:30:00],\n",
      "      dtype='object')\n",
      "Convert to a list: [datetime.datetime(2018, 6, 29, 8, 15, 27, 243860), datetime.datetime(2018, 6, 28, 7, 40), datetime.datetime(2018, 6, 28, 7, 40), datetime.datetime(2017, 9, 18, 22, 19, 55), datetime.datetime(1999, 5, 12, 12, 30), datetime.datetime(2015, 3, 21, 0, 0), datetime.datetime(2018, 3, 12, 10, 12, 45, tzinfo=tzutc()), datetime.datetime(2018, 6, 29, 17, 8, 0, 586525, tzinfo=tzutc()), datetime.datetime(2018, 6, 29, 17, 8, 0, 586525, tzinfo=tzoffset(None, 18000)), datetime.datetime(2017, 9, 6, 16, 30)]\n"
     ]
    }
   ],
   "source": [
    "import pandas as pd\n",
    "string_array = [\n",
    "    '2018-06-29 08:15:27.243860',\n",
    "    'Jun 28 2018 7:40AM',\n",
    "    'Jun 28 2018 at 7:40AM',\n",
    "    'September 18, 2017, 22:19:55',\n",
    "    'Sun, 05/12/1999, 12:30PM',\n",
    "    'Mon, 21 March, 2015',\n",
    "    '2018-03-12T10:12:45Z',\n",
    "    '2018-06-29 17:08:00.586525+00:00',\n",
    "    '2018-06-29 17:08:00.586525+05:00',\n",
    "    'Tuesday , 6th September, 2017 at 4:30pm'\n",
    "]\n",
    "ps_date = pd.to_datetime(string_array)\n",
    "# result is an array like datetimeIndex\n",
    "print(\"type:\", type(ps_date))\n",
    "print(\"ps_date=\", ps_date)\n",
    "print(\"Convert to a list:\", list(ps_date))"
   ]
  },
  {
   "cell_type": "code",
   "execution_count": 54,
   "id": "581dc943-2e9f-4d54-86e3-387953936e46",
   "metadata": {
    "editable": true,
    "tags": []
   },
   "outputs": [
    {
     "data": {
      "text/plain": [
       "array([False, False, False, False, False, False, False, False, False,\n",
       "       False,  True])"
      ]
     },
     "execution_count": 54,
     "metadata": {},
     "output_type": "execute_result"
    }
   ],
   "source": [
    "idx = pd.to_datetime(string_array + [None])\n",
    "idx\n",
    "idx[2]\n",
    "pd.isnull(idx)"
   ]
  },
  {
   "cell_type": "markdown",
   "id": "256183d3-270c-4797-a2e5-1d802011f847",
   "metadata": {},
   "source": [
    "## Method 4 - Split a String into Year, Month, Date and then use datetime()"
   ]
  },
  {
   "cell_type": "code",
   "execution_count": 55,
   "id": "e6f85756-d831-4580-a022-00d43e786832",
   "metadata": {
    "tags": []
   },
   "outputs": [
    {
     "name": "stdout",
     "output_type": "stream",
     "text": [
      "2022 01 03\n",
      "2022-01-03\n",
      "<class 'datetime.date'>\n"
     ]
    }
   ],
   "source": [
    "str = '2022-01-03'\n",
    "year, month, day=str.split('-')\n",
    "print(year, month,day)\n",
    "mydate=datetime(int(year), int(month), int(day)).date()\n",
    "print(mydate)\n",
    "print(type(mydate))"
   ]
  },
  {
   "cell_type": "code",
   "execution_count": 56,
   "id": "3f9de653-6fa8-4367-a9c7-ddca063bef7b",
   "metadata": {
    "tags": []
   },
   "outputs": [
    {
     "name": "stdout",
     "output_type": "stream",
     "text": [
      "2022 01 03\n",
      "2022-01-03 12:30:10\n",
      "<class 'datetime.datetime'>\n"
     ]
    }
   ],
   "source": [
    "str = '2022-01-03 12:30:10'\n",
    "sdate, stime=str.split()\n",
    "year, month, day=sdate.split('-')\n",
    "hour, minute, second=stime.split(':')\n",
    "print(year, month,day)\n",
    "mydatetime=datetime(int(year), int(month), int(day), int(hour), int(minute), int(second))\n",
    "print(mydatetime)\n",
    "print(type(mydatetime))"
   ]
  },
  {
   "cell_type": "markdown",
   "id": "b0321bcd-64fc-43fa-8207-02bcc89c56eb",
   "metadata": {},
   "source": [
    "# Convert a Datetime value to a string - strftime()\n"
   ]
  },
  {
   "cell_type": "code",
   "execution_count": 57,
   "id": "1a5baa16-b395-4a82-99ae-3544046cb0ce",
   "metadata": {
    "collapsed": false,
    "editable": true,
    "jupyter": {
     "outputs_hidden": false
    }
   },
   "outputs": [
    {
     "name": "stdout",
     "output_type": "stream",
     "text": [
      "2022-01-31 00:00:00\n",
      "2022-01-31\n",
      "01/31/2022\n",
      "Jan-31-2022\n",
      "January-31-2022\n",
      "January-31-22\n",
      "031-2022\n",
      "05-2022\n",
      "05-2022\n",
      "Monday, 2022-01-31\n",
      "Mon, 2022-01-31\n"
     ]
    }
   ],
   "source": [
    "#Convert a datetime to a string using strftime()\n",
    "stamp = datetime(2022, 1, 31)\n",
    "print(stamp)\n",
    "print(stamp.strftime('%Y-%m-%d'))\n",
    "print(stamp.strftime('%m/%d/%Y'))\n",
    "print(stamp.strftime('%b-%d-%Y'))\n",
    "print(stamp.strftime('%B-%d-%Y'))\n",
    "print(stamp.strftime('%B-%d-%y'))\n",
    "print(stamp.strftime('%j-%Y'))\n",
    "print(stamp.strftime('%U-%Y'))\n",
    "print(stamp.strftime('%W-%Y'))\n",
    "print(stamp.strftime('%A, %Y-%m-%d'))\n",
    "print(stamp.strftime('%a, %Y-%m-%d'))"
   ]
  },
  {
   "cell_type": "markdown",
   "id": "79e26b76-fb7e-43d8-9e81-2d256b02d89c",
   "metadata": {
    "tags": []
   },
   "source": [
    "## Get datetime attributes from a datetime variable\n",
    "- Year\n",
    "- Month Name\n",
    "- Numeric Month\n",
    "- Day of month\n",
    "- Day of Week\n",
    "- Day of Year\n",
    "- Quarter\n",
    "- Hour\n",
    "- Minute\n",
    "- Second\n",
    "- Epoch Time"
   ]
  },
  {
   "cell_type": "markdown",
   "id": "d64c8561-c925-41dd-af37-c712b7946ab8",
   "metadata": {},
   "source": [
    "```\n",
    "year  -  from 1 to 9999.\n",
    "\n",
    "month -  from 1 to 12.\n",
    "\n",
    "day -  number of days for that specific month as calculated by the Gregorian Calendar.\n",
    "\n",
    "hour -  0 to 23.\n",
    "\n",
    "minute -  0 to 59.\n",
    "\n",
    "second -  0 to 59.\n",
    "\n",
    "microsecond -  0 to 999999.\n",
    "\n",
    "tzinfo - An instance of a class derived from tzinfo, which provides time zone information.\n",
    "\n",
    "datetime.weekday() Return the day of the week as an integer, where Monday is 0 and Sunday is 6. The same as self.date().weekday(). See also isoweekday().\n",
    "\n",
    "datetime.isoweekday() Return the day of the week as an integer, where Monday is 1 and Sunday is 7. The same as self.date().isoweekday(). See also weekday(), isocalendar().\n",
    "\n",
    "datetime.isocalendar()\n",
    "Return a named tuple with three components: year, week and weekday. The same as self.date().isocalendar().\n",
    "\n",
    "datetime.date() Return date object with same year, month and day.\n",
    "\n",
    "datetime.time() Return time object with same hour, minute, second, microsecond and fold. tzinfo is None. See also method timetz().\n",
    "\n",
    "datetime.timetz() Return time object with same hour, minute, second, microsecond, fold, and tzinfo attributes. See also method time().\n",
    "\n",
    "```\n"
   ]
  },
  {
   "cell_type": "code",
   "execution_count": 58,
   "id": "497ed3b0-d1a6-49e8-9e34-329c988d3293",
   "metadata": {},
   "outputs": [
    {
     "name": "stdout",
     "output_type": "stream",
     "text": [
      "2022-04-04 18:10:30\n",
      "year 2022\n",
      "month 4\n",
      "day 4\n",
      "hour 18\n",
      "minute 10\n",
      "second 30\n",
      "microsecond 0\n",
      "tzinfo None\n"
     ]
    }
   ],
   "source": [
    "from datetime import datetime\n",
    "dt = datetime(2022, 4, 4, 18, 10, 30)\n",
    "attributes=['year', 'month', 'day', 'hour', 'minute', 'second', 'microsecond', 'tzinfo']\n",
    "print(dt)\n",
    "for attr in attributes:\n",
    "    print(attr, eval(\"dt.\" + attr))"
   ]
  },
  {
   "cell_type": "code",
   "execution_count": 59,
   "id": "afeb2622-9131-4bf3-b2c7-75ac107b4217",
   "metadata": {},
   "outputs": [
    {
     "name": "stdout",
     "output_type": "stream",
     "text": [
      "date 2022-04-04\n",
      "weekday 0\n",
      "isoweekday 1\n",
      "isocalendar datetime.IsoCalendarDate(year=2022, week=14, weekday=1)\n",
      "time 18:10:30\n",
      "timetz 18:10:30\n"
     ]
    }
   ],
   "source": [
    "funcs=['date', 'weekday', 'isoweekday', 'isocalendar', 'time', 'timetz']\n",
    "for fun in funcs:\n",
    "    print(fun, eval(\"dt.\" + fun + \"()\"))"
   ]
  },
  {
   "cell_type": "code",
   "execution_count": 65,
   "id": "bfb142b6-94b9-4952-b59b-0c8d9d09f8a6",
   "metadata": {},
   "outputs": [
    {
     "data": {
      "text/plain": [
       "'094'"
      ]
     },
     "execution_count": 65,
     "metadata": {},
     "output_type": "execute_result"
    }
   ],
   "source": [
    "# day of year - Julian day\n",
    "dayofyear = dt.strftime(\"%j\")\n",
    "dayofyear"
   ]
  },
  {
   "cell_type": "code",
   "execution_count": 61,
   "id": "4f20b2c3-e6ba-40a0-a5c6-594a917d4471",
   "metadata": {},
   "outputs": [
    {
     "data": {
      "text/plain": [
       "'14'"
      ]
     },
     "execution_count": 61,
     "metadata": {},
     "output_type": "execute_result"
    }
   ],
   "source": [
    "# week number of year - with Sunday as the first day of the week\n",
    "weekofyear = dt.strftime(\"%U\")\n",
    "weekofyear"
   ]
  },
  {
   "cell_type": "code",
   "execution_count": 62,
   "id": "6dd5d855-c751-4f45-9fa8-a0ac361488d1",
   "metadata": {},
   "outputs": [
    {
     "data": {
      "text/plain": [
       "'14'"
      ]
     },
     "execution_count": 62,
     "metadata": {},
     "output_type": "execute_result"
    }
   ],
   "source": [
    "# week number of year - with Monday as the first day of the week\n",
    "weekofyear = dt.strftime(\"%W\")\n",
    "weekofyear"
   ]
  },
  {
   "cell_type": "code",
   "execution_count": 63,
   "id": "8e5fc1e8-f0ad-4b5c-ab7d-2887deed65e2",
   "metadata": {},
   "outputs": [
    {
     "data": {
      "text/plain": [
       "2"
      ]
     },
     "execution_count": 63,
     "metadata": {},
     "output_type": "execute_result"
    }
   ],
   "source": [
    "# quarter of year\n",
    "import math\n",
    "quarter = int(math.ceil(dt.month/3.))\n",
    "quarter"
   ]
  },
  {
   "cell_type": "code",
   "execution_count": 64,
   "id": "cafadaae-8d0c-45e0-ae95-064fa913f1a7",
   "metadata": {},
   "outputs": [
    {
     "data": {
      "text/plain": [
       "2"
      ]
     },
     "execution_count": 64,
     "metadata": {},
     "output_type": "execute_result"
    }
   ],
   "source": [
    "# quarter of year - use pandas\n",
    "import pandas as pd\n",
    "pd.to_datetime(dt).quarter"
   ]
  },
  {
   "cell_type": "markdown",
   "id": "a3f90bd5-9fc0-41af-80b2-1749e18bf07e",
   "metadata": {},
   "source": [
    "## Get datetime attributes from a pandas datetime variable\n",
    "\n",
    "## Time/date components\n",
    "There are several time/date properties that one can access from Timestamp or a collection of timestamps like a DatetimeIndex.\n",
    "\n",
    "### Property  Description\n",
    "\n",
    "- year The year of the datetime\n",
    "\n",
    "- month The month of the datetime\n",
    "\n",
    "- day The days of the datetime\n",
    "\n",
    "- hour The hour of the datetime\n",
    "\n",
    "- minute The minutes of the datetime\n",
    "\n",
    "- second The seconds of the datetime\n",
    "\n",
    "- microsecond The microseconds of the datetime\n",
    "\n",
    "- nanosecond The nanoseconds of the datetime\n",
    "\n",
    "- date Returns datetime.date (does not contain timezone information)\n",
    "\n",
    "- time Returns datetime.time (does not contain timezone information)\n",
    "\n",
    "- timetz  Returns datetime.time as local time with timezone information\n",
    "\n",
    "- dayofyear The ordinal day of year\n",
    "\n",
    "- day_of_year The ordinal day of year\n",
    "\n",
    "- weekofyear The week ordinal of the year - depreciated\n",
    " \n",
    "- week The week ordinal of the year  - depreciated\n",
    "\n",
    "- isocalendar() Return a 3-tuple containing ISO year, week number, and weekday.\n",
    "\n",
    "- isocalendar().year  year\n",
    "\n",
    "- isocalendar().week  week number\n",
    "\n",
    "- isocalendar().day  week day number  Monday=1, Sunday=7\n",
    "\n",
    "- dayofweek The number of the day of the week with Monday=0, Sunday=6\n",
    "\n",
    "- day_of_week The number of the day of the week with Monday=0, Sunday=6\n",
    "\n",
    "- weekday The number of the day of the week with Monday=0, Sunday=6\n",
    "\n",
    "- quarter Quarter of the date: Jan-Mar = 1, Apr-Jun = 2, etc.\n",
    "\n",
    "- days_in_month The number of days in the month of the datetime\n",
    "\n",
    "- is_month_start Logical indicating if first day of month (defined by frequency)\n",
    "\n",
    "- is_month_end  Logical indicating if last day of month (defined by frequency)\n",
    "\n",
    "- is_quarter_start Logical indicating if first day of quarter (defined by frequency)\n",
    "\n",
    "- is_quarter_end Logical indicating if last day of quarter (defined by frequency)\n",
    "\n",
    "- is_year_start Logical indicating if first day of year (defined by frequency)\n",
    "\n",
    "- is_year_end Logical indicating if last day of year (defined by frequency)\n",
    "\n",
    "- is_leap_year Logical indicating if the date belongs to a leap year\n",
    "\n",
    "\n"
   ]
  },
  {
   "cell_type": "code",
   "execution_count": 104,
   "id": "00609d4a-ae54-439a-8abd-1986476f5d82",
   "metadata": {},
   "outputs": [
    {
     "data": {
      "text/plain": [
       "DatetimeIndex(['2022-05-04 12:30:00', '2018-01-01 00:00:00',\n",
       "               '2022-08-30 11:20:10'],\n",
       "              dtype='datetime64[ns]', freq=None)"
      ]
     },
     "execution_count": 104,
     "metadata": {},
     "output_type": "execute_result"
    }
   ],
   "source": [
    "import datetime\n",
    "import numpy as np\n",
    "import pandas as pd\n",
    "dti = pd.to_datetime([\"5/4/2022 12:30:00\", np.datetime64(\"2018-01-01\"), datetime.datetime(2022, 8, 30, 11, 20, 10)])\n",
    "dti"
   ]
  },
  {
   "cell_type": "code",
   "execution_count": 105,
   "id": "81a27a4d-5243-44e0-86c6-335b3baa1078",
   "metadata": {},
   "outputs": [
    {
     "data": {
      "text/plain": [
       "2022-05-04 12:30:00   2022-05-04 12:30:00\n",
       "2018-01-01 00:00:00   2018-01-01 00:00:00\n",
       "2022-08-30 11:20:10   2022-08-30 11:20:10\n",
       "dtype: datetime64[ns]"
      ]
     },
     "execution_count": 105,
     "metadata": {},
     "output_type": "execute_result"
    }
   ],
   "source": [
    "#Convert Datetime INdex to a Pandas Series\n",
    "dts = dti.to_series()\n",
    "dts"
   ]
  },
  {
   "cell_type": "code",
   "execution_count": 106,
   "id": "c3e6fb68-caa6-4b82-b510-216c9940fd1d",
   "metadata": {},
   "outputs": [
    {
     "data": {
      "text/plain": [
       "2022-05-04 12:30:00    2022-05-04\n",
       "2018-01-01 00:00:00    2018-01-01\n",
       "2022-08-30 11:20:10    2022-08-30\n",
       "dtype: object"
      ]
     },
     "execution_count": 106,
     "metadata": {},
     "output_type": "execute_result"
    }
   ],
   "source": [
    "# Call pandas Datetime attributes\n",
    "dts.dt.date"
   ]
  },
  {
   "cell_type": "code",
   "execution_count": 107,
   "id": "5f7757e7-149a-4549-9fef-d9aa97937322",
   "metadata": {},
   "outputs": [
    {
     "data": {
      "text/plain": [
       "0      5/4/2022 12:30:00\n",
       "1             2018-01-01\n",
       "2    2022-08-30 11:20:10\n",
       "dtype: object"
      ]
     },
     "execution_count": 107,
     "metadata": {},
     "output_type": "execute_result"
    }
   ],
   "source": [
    "# Another way to create a datetime series  - the dtype is object\n",
    "ps = pd.Series([\"5/4/2022 12:30:00\", np.datetime64(\"2018-01-01\"), datetime.datetime(2022, 8, 30, 11, 20, 10)])\n",
    "ps"
   ]
  },
  {
   "cell_type": "code",
   "execution_count": 108,
   "id": "20c5e44d-02e0-4831-b35d-77b7f02408df",
   "metadata": {
    "tags": []
   },
   "outputs": [
    {
     "ename": "AttributeError",
     "evalue": "Can only use .dt accessor with datetimelike values",
     "output_type": "error",
     "traceback": [
      "\u001b[1;31m---------------------------------------------------------------------------\u001b[0m",
      "\u001b[1;31mAttributeError\u001b[0m                            Traceback (most recent call last)",
      "Input \u001b[1;32mIn [108]\u001b[0m, in \u001b[0;36m<cell line: 2>\u001b[1;34m()\u001b[0m\n\u001b[0;32m      1\u001b[0m \u001b[38;5;66;03m# Can not apply dt attributes to an object dtype\u001b[39;00m\n\u001b[1;32m----> 2\u001b[0m \u001b[43mps\u001b[49m\u001b[38;5;241;43m.\u001b[39;49m\u001b[43mdt\u001b[49m\u001b[38;5;241m.\u001b[39myear\n",
      "File \u001b[1;32mC:\\ProgramData\\Anaconda3\\lib\\site-packages\\pandas\\core\\generic.py:5583\u001b[0m, in \u001b[0;36mNDFrame.__getattr__\u001b[1;34m(self, name)\u001b[0m\n\u001b[0;32m   5576\u001b[0m \u001b[38;5;28;01mif\u001b[39;00m (\n\u001b[0;32m   5577\u001b[0m     name \u001b[38;5;129;01mnot\u001b[39;00m \u001b[38;5;129;01min\u001b[39;00m \u001b[38;5;28mself\u001b[39m\u001b[38;5;241m.\u001b[39m_internal_names_set\n\u001b[0;32m   5578\u001b[0m     \u001b[38;5;129;01mand\u001b[39;00m name \u001b[38;5;129;01mnot\u001b[39;00m \u001b[38;5;129;01min\u001b[39;00m \u001b[38;5;28mself\u001b[39m\u001b[38;5;241m.\u001b[39m_metadata\n\u001b[0;32m   5579\u001b[0m     \u001b[38;5;129;01mand\u001b[39;00m name \u001b[38;5;129;01mnot\u001b[39;00m \u001b[38;5;129;01min\u001b[39;00m \u001b[38;5;28mself\u001b[39m\u001b[38;5;241m.\u001b[39m_accessors\n\u001b[0;32m   5580\u001b[0m     \u001b[38;5;129;01mand\u001b[39;00m \u001b[38;5;28mself\u001b[39m\u001b[38;5;241m.\u001b[39m_info_axis\u001b[38;5;241m.\u001b[39m_can_hold_identifiers_and_holds_name(name)\n\u001b[0;32m   5581\u001b[0m ):\n\u001b[0;32m   5582\u001b[0m     \u001b[38;5;28;01mreturn\u001b[39;00m \u001b[38;5;28mself\u001b[39m[name]\n\u001b[1;32m-> 5583\u001b[0m \u001b[38;5;28;01mreturn\u001b[39;00m \u001b[38;5;28;43mobject\u001b[39;49m\u001b[38;5;241;43m.\u001b[39;49m\u001b[38;5;21;43m__getattribute__\u001b[39;49m\u001b[43m(\u001b[49m\u001b[38;5;28;43mself\u001b[39;49m\u001b[43m,\u001b[49m\u001b[43m \u001b[49m\u001b[43mname\u001b[49m\u001b[43m)\u001b[49m\n",
      "File \u001b[1;32mC:\\ProgramData\\Anaconda3\\lib\\site-packages\\pandas\\core\\accessor.py:182\u001b[0m, in \u001b[0;36mCachedAccessor.__get__\u001b[1;34m(self, obj, cls)\u001b[0m\n\u001b[0;32m    179\u001b[0m \u001b[38;5;28;01mif\u001b[39;00m obj \u001b[38;5;129;01mis\u001b[39;00m \u001b[38;5;28;01mNone\u001b[39;00m:\n\u001b[0;32m    180\u001b[0m     \u001b[38;5;66;03m# we're accessing the attribute of the class, i.e., Dataset.geo\u001b[39;00m\n\u001b[0;32m    181\u001b[0m     \u001b[38;5;28;01mreturn\u001b[39;00m \u001b[38;5;28mself\u001b[39m\u001b[38;5;241m.\u001b[39m_accessor\n\u001b[1;32m--> 182\u001b[0m accessor_obj \u001b[38;5;241m=\u001b[39m \u001b[38;5;28;43mself\u001b[39;49m\u001b[38;5;241;43m.\u001b[39;49m\u001b[43m_accessor\u001b[49m\u001b[43m(\u001b[49m\u001b[43mobj\u001b[49m\u001b[43m)\u001b[49m\n\u001b[0;32m    183\u001b[0m \u001b[38;5;66;03m# Replace the property with the accessor object. Inspired by:\u001b[39;00m\n\u001b[0;32m    184\u001b[0m \u001b[38;5;66;03m# https://www.pydanny.com/cached-property.html\u001b[39;00m\n\u001b[0;32m    185\u001b[0m \u001b[38;5;66;03m# We need to use object.__setattr__ because we overwrite __setattr__ on\u001b[39;00m\n\u001b[0;32m    186\u001b[0m \u001b[38;5;66;03m# NDFrame\u001b[39;00m\n\u001b[0;32m    187\u001b[0m \u001b[38;5;28mobject\u001b[39m\u001b[38;5;241m.\u001b[39m\u001b[38;5;21m__setattr__\u001b[39m(obj, \u001b[38;5;28mself\u001b[39m\u001b[38;5;241m.\u001b[39m_name, accessor_obj)\n",
      "File \u001b[1;32mC:\\ProgramData\\Anaconda3\\lib\\site-packages\\pandas\\core\\indexes\\accessors.py:509\u001b[0m, in \u001b[0;36mCombinedDatetimelikeProperties.__new__\u001b[1;34m(cls, data)\u001b[0m\n\u001b[0;32m    506\u001b[0m \u001b[38;5;28;01melif\u001b[39;00m is_period_dtype(data\u001b[38;5;241m.\u001b[39mdtype):\n\u001b[0;32m    507\u001b[0m     \u001b[38;5;28;01mreturn\u001b[39;00m PeriodProperties(data, orig)\n\u001b[1;32m--> 509\u001b[0m \u001b[38;5;28;01mraise\u001b[39;00m \u001b[38;5;167;01mAttributeError\u001b[39;00m(\u001b[38;5;124m\"\u001b[39m\u001b[38;5;124mCan only use .dt accessor with datetimelike values\u001b[39m\u001b[38;5;124m\"\u001b[39m)\n",
      "\u001b[1;31mAttributeError\u001b[0m: Can only use .dt accessor with datetimelike values"
     ]
    }
   ],
   "source": [
    "# Can not apply dt attributes to an object dtype\n",
    "ps.dt.year"
   ]
  },
  {
   "cell_type": "code",
   "execution_count": 110,
   "id": "a91893c1-f4a0-402d-83d3-846134d17b09",
   "metadata": {},
   "outputs": [
    {
     "data": {
      "text/plain": [
       "0   2022-05-04 12:30:00\n",
       "1   2018-01-01 00:00:00\n",
       "2   2022-08-30 11:20:10\n",
       "dtype: datetime64[ns]"
      ]
     },
     "execution_count": 110,
     "metadata": {},
     "output_type": "execute_result"
    }
   ],
   "source": [
    "# Convert an object dtype to datetime dtype\n",
    "psd = pd.to_datetime(ps)\n",
    "psd"
   ]
  },
  {
   "cell_type": "code",
   "execution_count": 111,
   "id": "94621992-97d6-48c6-8f44-a2395891b9c1",
   "metadata": {
    "tags": []
   },
   "outputs": [],
   "source": [
    "dt_attr=[\"year\",\"month\",\"day\",\"hour\",\"minute\",\"second\",\"microsecond\",\"nanosecond\",\\\n",
    "         \"date\",\"time\",\"timetz\",\"dayofyear\",\"day_of_year\",\\\n",
    "         \"weekofyear\",\"week\",\"dayofweek\",\"day_of_week\",\"weekday\",\\\n",
    "         \"isocalendar()\", \"isocalendar().year\",\"isocalendar().week\",\"isocalendar().day\",\\\n",
    "         \"quarter\",\"days_in_month\",\\\n",
    "         \"is_month_start\",\"is_month_end\",\"is_quarter_start\",\"is_quarter_end\",\\\n",
    "         \"is_year_start\",\"is_year_end\",\"is_leap_year\"]"
   ]
  },
  {
   "cell_type": "code",
   "execution_count": 112,
   "id": "4257bfcb-c653-4ae6-a6b3-e995d32b75ec",
   "metadata": {},
   "outputs": [
    {
     "name": "stdout",
     "output_type": "stream",
     "text": [
      "year:\n",
      "0    2022\n",
      "1    2018\n",
      "2    2022\n",
      "dtype: int64\n",
      "--------------------\n",
      "month:\n",
      "0    5\n",
      "1    1\n",
      "2    8\n",
      "dtype: int64\n",
      "--------------------\n",
      "day:\n",
      "0     4\n",
      "1     1\n",
      "2    30\n",
      "dtype: int64\n",
      "--------------------\n",
      "hour:\n",
      "0    12\n",
      "1     0\n",
      "2    11\n",
      "dtype: int64\n",
      "--------------------\n",
      "minute:\n",
      "0    30\n",
      "1     0\n",
      "2    20\n",
      "dtype: int64\n",
      "--------------------\n",
      "second:\n",
      "0     0\n",
      "1     0\n",
      "2    10\n",
      "dtype: int64\n",
      "--------------------\n",
      "microsecond:\n",
      "0    0\n",
      "1    0\n",
      "2    0\n",
      "dtype: int64\n",
      "--------------------\n",
      "nanosecond:\n",
      "0    0\n",
      "1    0\n",
      "2    0\n",
      "dtype: int64\n",
      "--------------------\n",
      "date:\n",
      "0    2022-05-04\n",
      "1    2018-01-01\n",
      "2    2022-08-30\n",
      "dtype: object\n",
      "--------------------\n",
      "time:\n",
      "0    12:30:00\n",
      "1    00:00:00\n",
      "2    11:20:10\n",
      "dtype: object\n",
      "--------------------\n",
      "timetz:\n",
      "0    12:30:00\n",
      "1    00:00:00\n",
      "2    11:20:10\n",
      "dtype: object\n",
      "--------------------\n",
      "dayofyear:\n",
      "0    124\n",
      "1      1\n",
      "2    242\n",
      "dtype: int64\n",
      "--------------------\n",
      "day_of_year:\n",
      "0    124\n",
      "1      1\n",
      "2    242\n",
      "dtype: int64\n",
      "--------------------\n",
      "weekofyear:\n",
      "0    18\n",
      "1     1\n",
      "2    35\n",
      "dtype: int64\n",
      "--------------------\n",
      "week:\n",
      "0    18\n",
      "1     1\n",
      "2    35\n",
      "dtype: int64\n",
      "--------------------\n",
      "dayofweek:\n",
      "0    2\n",
      "1    0\n",
      "2    1\n",
      "dtype: int64\n",
      "--------------------\n",
      "day_of_week:\n",
      "0    2\n",
      "1    0\n",
      "2    1\n",
      "dtype: int64\n",
      "--------------------\n",
      "weekday:\n",
      "0    2\n",
      "1    0\n",
      "2    1\n",
      "dtype: int64\n",
      "--------------------\n",
      "isocalendar():\n",
      "   year  week  day\n",
      "0  2022    18    3\n",
      "1  2018     1    1\n",
      "2  2022    35    2\n",
      "--------------------\n",
      "isocalendar().year:\n",
      "0    2022\n",
      "1    2018\n",
      "2    2022\n",
      "Name: year, dtype: UInt32\n",
      "--------------------\n",
      "isocalendar().week:\n",
      "0    18\n",
      "1     1\n",
      "2    35\n",
      "Name: week, dtype: UInt32\n",
      "--------------------\n",
      "isocalendar().day:\n",
      "0    3\n",
      "1    1\n",
      "2    2\n",
      "Name: day, dtype: UInt32\n",
      "--------------------\n",
      "quarter:\n",
      "0    2\n",
      "1    1\n",
      "2    3\n",
      "dtype: int64\n",
      "--------------------\n",
      "days_in_month:\n",
      "0    31\n",
      "1    31\n",
      "2    31\n",
      "dtype: int64\n",
      "--------------------\n",
      "is_month_start:\n",
      "0    False\n",
      "1     True\n",
      "2    False\n",
      "dtype: bool\n",
      "--------------------\n",
      "is_month_end:\n",
      "0    False\n",
      "1    False\n",
      "2    False\n",
      "dtype: bool\n",
      "--------------------\n",
      "is_quarter_start:\n",
      "0    False\n",
      "1     True\n",
      "2    False\n",
      "dtype: bool\n",
      "--------------------\n",
      "is_quarter_end:\n",
      "0    False\n",
      "1    False\n",
      "2    False\n",
      "dtype: bool\n",
      "--------------------\n",
      "is_year_start:\n",
      "0    False\n",
      "1     True\n",
      "2    False\n",
      "dtype: bool\n",
      "--------------------\n",
      "is_year_end:\n",
      "0    False\n",
      "1    False\n",
      "2    False\n",
      "dtype: bool\n",
      "--------------------\n",
      "is_leap_year:\n",
      "0    False\n",
      "1    False\n",
      "2    False\n",
      "dtype: bool\n",
      "--------------------\n"
     ]
    },
    {
     "name": "stderr",
     "output_type": "stream",
     "text": [
      "<string>:1: FutureWarning: Series.dt.weekofyear and Series.dt.week have been deprecated. Please use Series.dt.isocalendar().week instead.\n",
      "<string>:1: FutureWarning: Series.dt.weekofyear and Series.dt.week have been deprecated. Please use Series.dt.isocalendar().week instead.\n"
     ]
    }
   ],
   "source": [
    "for attr in dt_attr:\n",
    "    print(attr+\":\")\n",
    "    print(eval(\"psd.dt.\" + attr))\n",
    "    print(\"-\"*20)\n",
    "    "
   ]
  },
  {
   "cell_type": "code",
   "execution_count": null,
   "id": "caba1fd2-3595-481c-a65c-489a218b7434",
   "metadata": {},
   "outputs": [],
   "source": []
  }
 ],
 "metadata": {
  "kernelspec": {
   "display_name": "Python 3 (ipykernel)",
   "language": "python",
   "name": "python3"
  },
  "language_info": {
   "codemirror_mode": {
    "name": "ipython",
    "version": 3
   },
   "file_extension": ".py",
   "mimetype": "text/x-python",
   "name": "python",
   "nbconvert_exporter": "python",
   "pygments_lexer": "ipython3",
   "version": "3.9.7"
  }
 },
 "nbformat": 4,
 "nbformat_minor": 5
}
