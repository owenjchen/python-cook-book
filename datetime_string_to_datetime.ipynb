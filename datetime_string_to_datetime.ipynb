{
 "cells": [
  {
   "cell_type": "markdown",
   "id": "df88b862-9457-4a0e-82bf-35a2b8433e09",
   "metadata": {},
   "source": [
    "# Convert Strings Into Datetimes\n",
    "1. Use the <b> strptime() </b> method from the <b> datetime</b> class to convert a string representation of the date/time into a date object.\n",
    "2. Parse a string to year, month, day and then use the <b> datetime() </b> method to create a datetime"
   ]
  },
  {
   "cell_type": "markdown",
   "id": "9803dc4f-5c15-4c08-a8d6-986b4ea49162",
   "metadata": {},
   "source": [
    "## Method 1 - Use the strptime()"
   ]
  },
  {
   "cell_type": "code",
   "execution_count": 14,
   "id": "838a450b-958f-44dd-a019-33d74b84cf3f",
   "metadata": {},
   "outputs": [
    {
     "name": "stdout",
     "output_type": "stream",
     "text": [
      "2022-01-03\n",
      "<class 'str'>\n",
      "2022-01-03 00:00:00\n",
      "<class 'datetime.datetime'>\n",
      "2022-01-03\n",
      "<class 'datetime.date'>\n"
     ]
    }
   ],
   "source": [
    "from datetime import datetime\n",
    "str = '2022-01-03'\n",
    "print(str)\n",
    "print(type(str))\n",
    "datetime_object = datetime.strptime(str, '%Y-%m-%d')\n",
    "date_object = datetime_object.date()\n",
    "print(datetime_object)\n",
    "print(type(datetime_object))\n",
    "print(date_object)\n",
    "print(type(date_object))"
   ]
  },
  {
   "cell_type": "code",
   "execution_count": 3,
   "id": "67e830d0-49c0-4960-b8a2-cf714d3f5dd5",
   "metadata": {},
   "outputs": [
    {
     "name": "stdout",
     "output_type": "stream",
     "text": [
      "2022-01-03 12:30:00\n",
      "<class 'datetime.datetime'>\n"
     ]
    }
   ],
   "source": [
    "# Parse a Datetime\n",
    "str = '2022-01-03 12:30:00'\n",
    "datetime_object = datetime.strptime(str, '%Y-%m-%d %H:%M:%S')\n",
    "print(datetime_object)\n",
    "print(type(datetime_object))"
   ]
  },
  {
   "cell_type": "markdown",
   "id": "256183d3-270c-4797-a2e5-1d802011f847",
   "metadata": {},
   "source": [
    "## Method 2 - Use the datetime()"
   ]
  },
  {
   "cell_type": "code",
   "execution_count": 15,
   "id": "e6f85756-d831-4580-a022-00d43e786832",
   "metadata": {},
   "outputs": [
    {
     "name": "stdout",
     "output_type": "stream",
     "text": [
      "2022 01 03\n",
      "2022-01-03\n",
      "<class 'datetime.date'>\n"
     ]
    }
   ],
   "source": [
    "str = '2022-01-03'\n",
    "year, month, day=str.split('-')\n",
    "print(year, month,day)\n",
    "mydate=datetime(int(year), int(month), int(day)).date()\n",
    "print(mydate)\n",
    "print(type(mydate))"
   ]
  },
  {
   "cell_type": "code",
   "execution_count": 19,
   "id": "3f9de653-6fa8-4367-a9c7-ddca063bef7b",
   "metadata": {},
   "outputs": [
    {
     "name": "stdout",
     "output_type": "stream",
     "text": [
      "2022 01 03\n",
      "2022-01-03 12:30:10\n",
      "<class 'datetime.datetime'>\n"
     ]
    }
   ],
   "source": [
    "str = '2022-01-03 12:30:10'\n",
    "sdate, stime=str.split()\n",
    "year, month, day=sdate.split('-')\n",
    "hour, minute, second=stime.split(':')\n",
    "print(year, month,day)\n",
    "mydatetime=datetime(int(year), int(month), int(day), int(hour), int(minute), int(second))\n",
    "print(mydatetime)\n",
    "print(type(mydatetime))"
   ]
  },
  {
   "cell_type": "code",
   "execution_count": null,
   "id": "f8d61356-14e2-486c-a7b3-decb6fcec60c",
   "metadata": {},
   "outputs": [],
   "source": []
  }
 ],
 "metadata": {
  "kernelspec": {
   "display_name": "Python 3 (ipykernel)",
   "language": "python",
   "name": "python3"
  },
  "language_info": {
   "codemirror_mode": {
    "name": "ipython",
    "version": 3
   },
   "file_extension": ".py",
   "mimetype": "text/x-python",
   "name": "python",
   "nbconvert_exporter": "python",
   "pygments_lexer": "ipython3",
   "version": "3.9.7"
  }
 },
 "nbformat": 4,
 "nbformat_minor": 5
}
