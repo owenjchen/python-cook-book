{
 "cells": [
  {
   "cell_type": "markdown",
   "id": "7ce016ab-f0a7-48ff-b110-f849e86a56d4",
   "metadata": {},
   "source": [
    "## Math: Perform a Prime Factorization of any given number\n",
    "* Author: Owen Chen\n",
    "* Date: 3/28/2022"
   ]
  },
  {
   "cell_type": "code",
   "execution_count": 6,
   "id": "52653e88-21c7-448a-ac52-71e6b5187dfb",
   "metadata": {},
   "outputs": [],
   "source": [
    "import math\n",
    "def primefactors(s):\n",
    "    if not s.isdigit():\n",
    "        print(\"please enter a number only\")\n",
    "        return None\n",
    "    n = int(s)\n",
    "    out=[]\n",
    "    #even number divisible\n",
    "    while n % 2 == 0:\n",
    "      out.append(2)\n",
    "      n = n / 2\n",
    "    #n became odd\n",
    "    last = int(math.sqrt(n))+1\n",
    "    for i in range(3,last,2):\n",
    "        while (n % i == 0):\n",
    "            out.append(i)\n",
    "            n = n / i\n",
    "    if n > 2:\n",
    "        out.append(int(n)) \n",
    "    return out"
   ]
  },
  {
   "cell_type": "code",
   "execution_count": 7,
   "id": "006685a2-8e79-4838-a3af-227565143f08",
   "metadata": {},
   "outputs": [
    {
     "name": "stdin",
     "output_type": "stream",
     "text": [
      "Please enter a number to get its prime factors: 960\n"
     ]
    },
    {
     "name": "stdout",
     "output_type": "stream",
     "text": [
      "[2, 2, 2, 2, 2, 2, 3, 5]\n"
     ]
    }
   ],
   "source": [
    "n = input(\"Please enter a number to get its prime factors:\")\n",
    "pf = primefactors(n)\n",
    "print(pf)"
   ]
  },
  {
   "cell_type": "code",
   "execution_count": 33,
   "id": "74fb2080-1491-40bd-b5f1-f583e17dfbe9",
   "metadata": {},
   "outputs": [],
   "source": [
    "## Version 2 - Generate a prime factorization with a proper exponent form\n",
    "# Prime Number Generator\n",
    "def prime_generator(end):\n",
    "    for n in range(2, end):     # n starts from 2 to end\n",
    "        for x in range(2, n):   # check if x can be divided by n\n",
    "            if n % x == 0:      # if true then n is not prime\n",
    "                break\n",
    "        else:                   # if x is found after exhausting all values of x\n",
    "            yield n             # generate the prime\n",
    "            \n",
    "import math\n",
    "def primefactors2(s):\n",
    "    if not s.isdigit():\n",
    "        print(\"please enter a number only\")\n",
    "        return None\n",
    "    n = int(s)\n",
    "    out=\"\"\n",
    "    reminder = n\n",
    "    for prime in prime_generator(n):\n",
    "        if prime > reminder:\n",
    "            break\n",
    "        exp = 0\n",
    "        while reminder % prime ==0:\n",
    "            exp +=1\n",
    "            reminder /=prime\n",
    "        if exp:\n",
    "            if out:\n",
    "                out += f\" * {prime}^{exp}\"\n",
    "            else:\n",
    "                out = f\"{prime}^{exp}\"\n",
    "    if reminder > 2:\n",
    "        if out:\n",
    "            out += f\" * {reminder}^1\"\n",
    "        else:\n",
    "            out = f\"{reminder}^1\"\n",
    "    return out"
   ]
  },
  {
   "cell_type": "code",
   "execution_count": 34,
   "id": "f98dd8c5-c08b-427f-af7f-01932c0bef07",
   "metadata": {},
   "outputs": [
    {
     "name": "stdin",
     "output_type": "stream",
     "text": [
      "Please enter a number to get its prime factors: 160083000\n"
     ]
    },
    {
     "name": "stdout",
     "output_type": "stream",
     "text": [
      "2^3 * 3^3 * 5^3 * 7^2 * 11^2\n"
     ]
    }
   ],
   "source": [
    "n = input(\"Please enter a number to get its prime factors:\")\n",
    "pf = primefactors2(n)\n",
    "print(pf)"
   ]
  },
  {
   "cell_type": "code",
   "execution_count": null,
   "id": "9fc8c6a4-690b-4122-b5bb-46da36f2dd7c",
   "metadata": {},
   "outputs": [],
   "source": []
  }
 ],
 "metadata": {
  "kernelspec": {
   "display_name": "Python 3 (ipykernel)",
   "language": "python",
   "name": "python3"
  },
  "language_info": {
   "codemirror_mode": {
    "name": "ipython",
    "version": 3
   },
   "file_extension": ".py",
   "mimetype": "text/x-python",
   "name": "python",
   "nbconvert_exporter": "python",
   "pygments_lexer": "ipython3",
   "version": "3.9.7"
  }
 },
 "nbformat": 4,
 "nbformat_minor": 5
}
