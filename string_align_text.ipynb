{
 "cells": [
  {
   "cell_type": "markdown",
   "id": "11c1dd7b-f902-44ca-99aa-91819d44b4d0",
   "metadata": {},
   "source": [
    "# Align Text Strings\n",
    "* Align text strings using the ljust(), rjust(), and center() methods. \n",
    "* These methods left-justify, right-justify, and center a string in a field of a given width."
   ]
  },
  {
   "cell_type": "code",
   "execution_count": 1,
   "id": "3ec4db0e-573c-459d-94ba-c70f995fa8d0",
   "metadata": {},
   "outputs": [
    {
     "name": "stdout",
     "output_type": "stream",
     "text": [
      "Python is best      \n",
      "   Python is best   \n",
      "      Python is best\n"
     ]
    }
   ],
   "source": [
    "str = \"Python is best\"\n",
    "print(str.ljust(20))\n",
    "print(str.center(20))\n",
    "print(str.rjust(20))"
   ]
  },
  {
   "cell_type": "markdown",
   "id": "d0bb17a7-018f-4f99-b9ac-f32928ef330b",
   "metadata": {},
   "source": [
    "## These methods also accept an optional fill character."
   ]
  },
  {
   "cell_type": "code",
   "execution_count": 2,
   "id": "34ec249b-c405-440f-98c8-6a39b30ebaf6",
   "metadata": {},
   "outputs": [
    {
     "name": "stdout",
     "output_type": "stream",
     "text": [
      "Python is best######\n",
      "###Python is best###\n",
      "######Python is best\n"
     ]
    }
   ],
   "source": [
    "str = \"Python is best\"\n",
    "print(str.ljust(20, '#'))\n",
    "print(str.center(20, '#'))\n",
    "print(str.rjust(20, '#'))"
   ]
  },
  {
   "cell_type": "code",
   "execution_count": null,
   "id": "150853ac-68fe-4c7f-8e9f-e645218dc784",
   "metadata": {},
   "outputs": [],
   "source": []
  }
 ],
 "metadata": {
  "kernelspec": {
   "display_name": "Python 3 (ipykernel)",
   "language": "python",
   "name": "python3"
  },
  "language_info": {
   "codemirror_mode": {
    "name": "ipython",
    "version": 3
   },
   "file_extension": ".py",
   "mimetype": "text/x-python",
   "name": "python",
   "nbconvert_exporter": "python",
   "pygments_lexer": "ipython3",
   "version": "3.9.7"
  }
 },
 "nbformat": 4,
 "nbformat_minor": 5
}
