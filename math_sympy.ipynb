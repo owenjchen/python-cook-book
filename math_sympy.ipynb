{
 "cells": [
  {
   "cell_type": "markdown",
   "id": "7ce016ab-f0a7-48ff-b110-f849e86a56d4",
   "metadata": {},
   "source": [
    "## Math Tutorial: Symbolic Math Operations - Sympy\n",
    "\n",
    "SymPy is a Python library for symbolic mathematics. It aims to become a full-featured computer algebra system (CAS) while keeping the code as simple as possible in order to be comprehensible and easily extensible\n",
    "\n",
    "* Author: Owen Chen\n",
    "* Date: 4/15/2022\n",
    "\n",
    "* Reference:\n",
    "    https://www.sympy.org/en/index.html"
   ]
  },
  {
   "cell_type": "code",
   "execution_count": 6,
   "id": "0a0caa3c-6735-4405-b0a8-8a887bc6cbef",
   "metadata": {},
   "outputs": [],
   "source": [
    "from sympy import *"
   ]
  },
  {
   "cell_type": "code",
   "execution_count": 12,
   "id": "682699ef-3f4b-4b7b-99ca-424ac28bc03e",
   "metadata": {},
   "outputs": [],
   "source": [
    "x, y, z = symbols('x y z')"
   ]
  },
  {
   "cell_type": "markdown",
   "id": "bcce36e6-5988-4bb3-9789-a4f716f84fc2",
   "metadata": {},
   "source": [
    "### Simplify Expressions\n",
    "\n",
    "simplify($sin(x)^2 + cos(x)^2$)\n",
    "\n",
    "Result: $sin(x)^2 + cos(x)^2$ = 1"
   ]
  },
  {
   "cell_type": "code",
   "execution_count": 13,
   "id": "1a89d7bf-5d90-4b9f-abda-2fc241056a45",
   "metadata": {},
   "outputs": [
    {
     "data": {
      "text/latex": [
       "$\\displaystyle 1$"
      ],
      "text/plain": [
       "1"
      ]
     },
     "execution_count": 13,
     "metadata": {},
     "output_type": "execute_result"
    }
   ],
   "source": [
    "simplify(sin(x)**2 + cos(x)**2)"
   ]
  },
  {
   "cell_type": "markdown",
   "id": "d4f07ed7-fb4a-43bf-b5dc-540474ce9a09",
   "metadata": {},
   "source": [
    "simplify:  $(x^3 + x^2 - x - 1)/(x^2 + 2x + 1)$\n",
    "\n",
    "Result: $x-1$"
   ]
  },
  {
   "cell_type": "code",
   "execution_count": 14,
   "id": "ad0bf01b-404c-46a8-b564-dc200d11957c",
   "metadata": {},
   "outputs": [
    {
     "data": {
      "text/latex": [
       "$\\displaystyle x - 1$"
      ],
      "text/plain": [
       "x - 1"
      ]
     },
     "execution_count": 14,
     "metadata": {},
     "output_type": "execute_result"
    }
   ],
   "source": [
    "simplify((x**3 + x**2 - x - 1)/(x**2 + 2*x + 1))"
   ]
  },
  {
   "cell_type": "markdown",
   "id": "2e131fee-c5db-4f7f-ace7-a5dbecedea22",
   "metadata": {},
   "source": [
    "### Expand Expressions\n"
   ]
  },
  {
   "cell_type": "code",
   "execution_count": 15,
   "id": "938b5a65-90dc-4a5c-a41c-ec3be8bf5d48",
   "metadata": {},
   "outputs": [
    {
     "data": {
      "text/latex": [
       "$\\displaystyle x^{2} + 2 x + 1$"
      ],
      "text/plain": [
       "x**2 + 2*x + 1"
      ]
     },
     "execution_count": 15,
     "metadata": {},
     "output_type": "execute_result"
    }
   ],
   "source": [
    "expand((x + 1)**2)"
   ]
  },
  {
   "cell_type": "code",
   "execution_count": 16,
   "id": "d6636e4b-ee61-4720-a8d1-4453f09fb69d",
   "metadata": {},
   "outputs": [
    {
     "data": {
      "text/latex": [
       "$\\displaystyle x^{2} - x - 6$"
      ],
      "text/plain": [
       "x**2 - x - 6"
      ]
     },
     "execution_count": 16,
     "metadata": {},
     "output_type": "execute_result"
    }
   ],
   "source": [
    "expand((x + 2)*(x - 3))"
   ]
  },
  {
   "cell_type": "code",
   "execution_count": 17,
   "id": "9be33bbc-4a96-4f42-9a36-997c59cfa1b2",
   "metadata": {},
   "outputs": [
    {
     "data": {
      "text/latex": [
       "$\\displaystyle -2$"
      ],
      "text/plain": [
       "-2"
      ]
     },
     "execution_count": 17,
     "metadata": {},
     "output_type": "execute_result"
    }
   ],
   "source": [
    "expand((x + 1)*(x - 2) - (x - 1)*x)"
   ]
  },
  {
   "cell_type": "code",
   "execution_count": 18,
   "id": "6ee10c63-5732-4700-810e-4b0b9fc2b315",
   "metadata": {},
   "outputs": [
    {
     "data": {
      "text/latex": [
       "$\\displaystyle x^{3} + 3 x^{2} + 3 x + 1$"
      ],
      "text/plain": [
       "x**3 + 3*x**2 + 3*x + 1"
      ]
     },
     "execution_count": 18,
     "metadata": {},
     "output_type": "execute_result"
    }
   ],
   "source": [
    "expand((x + 1)**3)"
   ]
  },
  {
   "cell_type": "code",
   "execution_count": 28,
   "id": "ebcd2193-b385-4704-bb13-b2ff9fe891f1",
   "metadata": {},
   "outputs": [
    {
     "data": {
      "text/latex": [
       "$\\displaystyle x^{5} + 5 x^{4} y + 10 x^{3} y^{2} + 10 x^{2} y^{3} + 5 x y^{4} + y^{5}$"
      ],
      "text/plain": [
       "x**5 + 5*x**4*y + 10*x**3*y**2 + 10*x**2*y**3 + 5*x*y**4 + y**5"
      ]
     },
     "execution_count": 28,
     "metadata": {},
     "output_type": "execute_result"
    }
   ],
   "source": [
    "expand((x + y)**5)"
   ]
  },
  {
   "cell_type": "markdown",
   "id": "a98bc1e6-f4f7-4255-9b82-b964faee2b98",
   "metadata": {},
   "source": [
    "### Factor an Expression\n",
    "\n",
    "factor these expressions:\n",
    "\n",
    "* $x^3 - x^2 + x - 1$\n",
    "\n",
    "* $x^2z + 4xyz + 4y^2z$\n"
   ]
  },
  {
   "cell_type": "code",
   "execution_count": 21,
   "id": "e4a2f054-a0c7-447b-80d0-7d9b34dc00fd",
   "metadata": {},
   "outputs": [
    {
     "data": {
      "text/latex": [
       "$\\displaystyle \\left(x - 1\\right) \\left(x^{2} + 1\\right)$"
      ],
      "text/plain": [
       "(x - 1)*(x**2 + 1)"
      ]
     },
     "execution_count": 21,
     "metadata": {},
     "output_type": "execute_result"
    }
   ],
   "source": [
    "factor(x**3 - x**2 + x - 1)"
   ]
  },
  {
   "cell_type": "code",
   "execution_count": 22,
   "id": "8c4620d5-e47a-4d69-8098-4ee58a4a0536",
   "metadata": {},
   "outputs": [
    {
     "data": {
      "text/latex": [
       "$\\displaystyle z \\left(x + 2 y\\right)^{2}$"
      ],
      "text/plain": [
       "z*(x + 2*y)**2"
      ]
     },
     "execution_count": 22,
     "metadata": {},
     "output_type": "execute_result"
    }
   ],
   "source": [
    "factor(x**2*z + 4*x*y*z + 4*y**2*z)"
   ]
  },
  {
   "cell_type": "markdown",
   "id": "abcc6f69-e939-436e-84ac-f0d74e0cad25",
   "metadata": {},
   "source": [
    "### Verify Factor and Expand\n"
   ]
  },
  {
   "cell_type": "code",
   "execution_count": 23,
   "id": "51178c84-6f69-4384-bcf8-12ea1527142d",
   "metadata": {},
   "outputs": [
    {
     "data": {
      "text/latex": [
       "$\\displaystyle \\sin^{2}{\\left(x \\right)} + 2 \\sin{\\left(x \\right)} \\cos{\\left(x \\right)} + \\cos^{2}{\\left(x \\right)}$"
      ],
      "text/plain": [
       "sin(x)**2 + 2*sin(x)*cos(x) + cos(x)**2"
      ]
     },
     "execution_count": 23,
     "metadata": {},
     "output_type": "execute_result"
    }
   ],
   "source": [
    "expand((cos(x) + sin(x))**2)"
   ]
  },
  {
   "cell_type": "code",
   "execution_count": 24,
   "id": "296362c1-8281-4216-996c-c4501203b470",
   "metadata": {},
   "outputs": [
    {
     "data": {
      "text/latex": [
       "$\\displaystyle \\left(\\sin{\\left(x \\right)} + \\cos{\\left(x \\right)}\\right)^{2}$"
      ],
      "text/plain": [
       "(sin(x) + cos(x))**2"
      ]
     },
     "execution_count": 24,
     "metadata": {},
     "output_type": "execute_result"
    }
   ],
   "source": [
    "factor(cos(x)**2 + 2*cos(x)*sin(x) + sin(x)**2)"
   ]
  },
  {
   "cell_type": "markdown",
   "id": "f561926f-8514-44fc-a40e-0a8de72b10c3",
   "metadata": {},
   "source": [
    "## Calculus"
   ]
  },
  {
   "cell_type": "markdown",
   "id": "50d7659c-47f8-4386-a7e3-c208a4ff3e94",
   "metadata": {},
   "source": [
    "### Derivatives\n",
    "* $\\frac{dcos(x)}{dx}$\n",
    "* $\\frac{d(x^4+x^3+x^2+x)}{dx}$"
   ]
  },
  {
   "cell_type": "code",
   "execution_count": 25,
   "id": "61b7dddb-be79-4789-9c6c-ae8d63d203d7",
   "metadata": {},
   "outputs": [
    {
     "data": {
      "text/latex": [
       "$\\displaystyle - \\sin{\\left(x \\right)}$"
      ],
      "text/plain": [
       "-sin(x)"
      ]
     },
     "execution_count": 25,
     "metadata": {},
     "output_type": "execute_result"
    }
   ],
   "source": [
    "diff(cos(x), x)"
   ]
  },
  {
   "cell_type": "code",
   "execution_count": 27,
   "id": "661f6a90-ca8f-4b66-b5cb-47202598ac75",
   "metadata": {},
   "outputs": [
    {
     "data": {
      "text/latex": [
       "$\\displaystyle 4 x^{3} + 3 x^{2} + 2 x + 1$"
      ],
      "text/plain": [
       "4*x**3 + 3*x**2 + 2*x + 1"
      ]
     },
     "execution_count": 27,
     "metadata": {},
     "output_type": "execute_result"
    }
   ],
   "source": [
    "diff(x**4+x**3+x**2+x, x)"
   ]
  },
  {
   "cell_type": "code",
   "execution_count": null,
   "id": "059c7c22-85fa-4ee4-a738-eb8884e4c72b",
   "metadata": {},
   "outputs": [],
   "source": []
  }
 ],
 "metadata": {
  "kernelspec": {
   "display_name": "Python 3 (ipykernel)",
   "language": "python",
   "name": "python3"
  },
  "language_info": {
   "codemirror_mode": {
    "name": "ipython",
    "version": 3
   },
   "file_extension": ".py",
   "mimetype": "text/x-python",
   "name": "python",
   "nbconvert_exporter": "python",
   "pygments_lexer": "ipython3",
   "version": "3.9.7"
  }
 },
 "nbformat": 4,
 "nbformat_minor": 5
}
